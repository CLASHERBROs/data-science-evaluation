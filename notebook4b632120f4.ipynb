{
 "cells": [
  {
   "cell_type": "code",
   "execution_count": 1,
   "id": "a6c17556",
   "metadata": {
    "_cell_guid": "b1076dfc-b9ad-4769-8c92-a6c4dae69d19",
    "_uuid": "8f2839f25d086af736a60e9eeb907d3b93b6e0e5",
    "execution": {
     "iopub.execute_input": "2022-03-16T14:09:01.265933Z",
     "iopub.status.busy": "2022-03-16T14:09:01.265265Z",
     "iopub.status.idle": "2022-03-16T14:09:01.272294Z",
     "shell.execute_reply": "2022-03-16T14:09:01.272843Z",
     "shell.execute_reply.started": "2022-03-16T11:52:56.689878Z"
    },
    "papermill": {
     "duration": 0.076425,
     "end_time": "2022-03-16T14:09:01.273104",
     "exception": false,
     "start_time": "2022-03-16T14:09:01.196679",
     "status": "completed"
    },
    "tags": []
   },
   "outputs": [
    {
     "name": "stdout",
     "output_type": "stream",
     "text": [
      "/kaggle/input/ammi-bootcamp-kaggle-competition/Sample_Submission.csv\n",
      "/kaggle/input/ammi-bootcamp-kaggle-competition/train.csv\n",
      "/kaggle/input/ammi-bootcamp-kaggle-competition/test.csv\n"
     ]
    }
   ],
   "source": [
    "# This Python 3 environment comes with many helpful analytics libraries installed\n",
    "# It is defined by the kaggle/python Docker image: https://github.com/kaggle/docker-python\n",
    "# For example, here's several helpful packages to load\n",
    "\n",
    "# Input data files are available in the read-only \"../input/\" directory\n",
    "# For example, running this (by clicking run or pressing Shift+Enter) will list all files under the input directory\n",
    "\n",
    "import os\n",
    "for dirname, _, filenames in os.walk('/kaggle/input'):\n",
    "    for filename in filenames:\n",
    "        print(os.path.join(dirname, filename))\n",
    "\n",
    "# You can write up to 20GB to the current directory (/kaggle/working/) that gets preserved as output when you create a version using \"Save & Run All\" \n",
    "# You can also write temporary files to /kaggle/temp/, but they won't be saved outside of the current session"
   ]
  },
  {
   "cell_type": "code",
   "execution_count": 2,
   "id": "74b5ebbe",
   "metadata": {
    "execution": {
     "iopub.execute_input": "2022-03-16T14:09:01.394529Z",
     "iopub.status.busy": "2022-03-16T14:09:01.393796Z",
     "iopub.status.idle": "2022-03-16T14:09:05.526547Z",
     "shell.execute_reply": "2022-03-16T14:09:05.526059Z",
     "shell.execute_reply.started": "2022-03-16T11:52:57.014501Z"
    },
    "papermill": {
     "duration": 4.197835,
     "end_time": "2022-03-16T14:09:05.526680",
     "exception": false,
     "start_time": "2022-03-16T14:09:01.328845",
     "status": "completed"
    },
    "tags": []
   },
   "outputs": [],
   "source": [
    "import cupy as np\n",
    "import cudf as pd\n",
    "import nltk\n",
    "import matplotlib.pyplot as plt\n",
    "import seaborn as sns\n",
    "from scipy.stats import norm\n",
    "from sklearn.preprocessing import StandardScaler\n",
    "from scipy import stats"
   ]
  },
  {
   "cell_type": "code",
   "execution_count": 3,
   "id": "92eaf8e9",
   "metadata": {
    "execution": {
     "iopub.execute_input": "2022-03-16T14:09:05.633576Z",
     "iopub.status.busy": "2022-03-16T14:09:05.632992Z",
     "iopub.status.idle": "2022-03-16T14:09:09.011633Z",
     "shell.execute_reply": "2022-03-16T14:09:09.012144Z",
     "shell.execute_reply.started": "2022-03-16T11:52:57.776451Z"
    },
    "papermill": {
     "duration": 3.433309,
     "end_time": "2022-03-16T14:09:09.012294",
     "exception": false,
     "start_time": "2022-03-16T14:09:05.578985",
     "status": "completed"
    },
    "tags": []
   },
   "outputs": [],
   "source": [
    "train_gdf=pd.read_csv('/kaggle/input/ammi-bootcamp-kaggle-competition/train.csv')\n",
    "test_gdf=pd.read_csv('/kaggle/input/ammi-bootcamp-kaggle-competition/test.csv')"
   ]
  },
  {
   "cell_type": "code",
   "execution_count": 4,
   "id": "eebce0d1",
   "metadata": {
    "execution": {
     "iopub.execute_input": "2022-03-16T14:09:09.120900Z",
     "iopub.status.busy": "2022-03-16T14:09:09.120272Z",
     "iopub.status.idle": "2022-03-16T14:09:09.126914Z",
     "shell.execute_reply": "2022-03-16T14:09:09.126497Z",
     "shell.execute_reply.started": "2022-03-16T11:52:58.229072Z"
    },
    "papermill": {
     "duration": 0.063234,
     "end_time": "2022-03-16T14:09:09.127027",
     "exception": false,
     "start_time": "2022-03-16T14:09:09.063793",
     "status": "completed"
    },
    "tags": []
   },
   "outputs": [],
   "source": [
    "train_gdf['points'] = train_gdf['points'].astype(int)\n",
    "test_gdf['points'] = test_gdf['points'].astype(int)"
   ]
  },
  {
   "cell_type": "code",
   "execution_count": 5,
   "id": "88cd4331",
   "metadata": {
    "execution": {
     "iopub.execute_input": "2022-03-16T14:09:09.237790Z",
     "iopub.status.busy": "2022-03-16T14:09:09.236204Z",
     "iopub.status.idle": "2022-03-16T14:09:09.238371Z",
     "shell.execute_reply": "2022-03-16T14:09:09.238804Z",
     "shell.execute_reply.started": "2022-03-16T11:53:02.320405Z"
    },
    "papermill": {
     "duration": 0.061257,
     "end_time": "2022-03-16T14:09:09.238929",
     "exception": false,
     "start_time": "2022-03-16T14:09:09.177672",
     "status": "completed"
    },
    "tags": []
   },
   "outputs": [],
   "source": [
    "train_gdf.set_index('id',inplace=True)\n",
    "test_gdf.set_index('id',inplace=True)"
   ]
  },
  {
   "cell_type": "code",
   "execution_count": 6,
   "id": "870a8d23",
   "metadata": {
    "execution": {
     "iopub.execute_input": "2022-03-16T14:09:09.350762Z",
     "iopub.status.busy": "2022-03-16T14:09:09.349937Z",
     "iopub.status.idle": "2022-03-16T14:09:09.500651Z",
     "shell.execute_reply": "2022-03-16T14:09:09.500144Z",
     "shell.execute_reply.started": "2022-03-16T11:53:02.525735Z"
    },
    "papermill": {
     "duration": 0.211143,
     "end_time": "2022-03-16T14:09:09.500784",
     "exception": false,
     "start_time": "2022-03-16T14:09:09.289641",
     "status": "completed"
    },
    "tags": []
   },
   "outputs": [
    {
     "data": {
      "text/html": [
       "<div>\n",
       "<style scoped>\n",
       "    .dataframe tbody tr th:only-of-type {\n",
       "        vertical-align: middle;\n",
       "    }\n",
       "\n",
       "    .dataframe tbody tr th {\n",
       "        vertical-align: top;\n",
       "    }\n",
       "\n",
       "    .dataframe thead th {\n",
       "        text-align: right;\n",
       "    }\n",
       "</style>\n",
       "<table border=\"1\" class=\"dataframe\">\n",
       "  <thead>\n",
       "    <tr style=\"text-align: right;\">\n",
       "      <th></th>\n",
       "      <th>country</th>\n",
       "      <th>description</th>\n",
       "      <th>designation</th>\n",
       "      <th>points</th>\n",
       "      <th>price</th>\n",
       "      <th>province</th>\n",
       "      <th>region_1</th>\n",
       "      <th>region_2</th>\n",
       "      <th>taster_name</th>\n",
       "      <th>taster_twitter_handle</th>\n",
       "      <th>title</th>\n",
       "      <th>variety</th>\n",
       "      <th>winery</th>\n",
       "    </tr>\n",
       "    <tr>\n",
       "      <th>id</th>\n",
       "      <th></th>\n",
       "      <th></th>\n",
       "      <th></th>\n",
       "      <th></th>\n",
       "      <th></th>\n",
       "      <th></th>\n",
       "      <th></th>\n",
       "      <th></th>\n",
       "      <th></th>\n",
       "      <th></th>\n",
       "      <th></th>\n",
       "      <th></th>\n",
       "      <th></th>\n",
       "    </tr>\n",
       "  </thead>\n",
       "  <tbody>\n",
       "    <tr>\n",
       "      <th>32027</th>\n",
       "      <td>Portugal</td>\n",
       "      <td>This is a fine rich balanced wine. It has ripe...</td>\n",
       "      <td>Vila Santa Reserva</td>\n",
       "      <td>88</td>\n",
       "      <td>20.0</td>\n",
       "      <td>Alentejano</td>\n",
       "      <td>&lt;NA&gt;</td>\n",
       "      <td>&lt;NA&gt;</td>\n",
       "      <td>&lt;NA&gt;</td>\n",
       "      <td>&lt;NA&gt;</td>\n",
       "      <td>&lt;NA&gt;</td>\n",
       "      <td>PORTUGUESE RED</td>\n",
       "      <td>J. Portugal Ramos</td>\n",
       "    </tr>\n",
       "    <tr>\n",
       "      <th>71079</th>\n",
       "      <td>France</td>\n",
       "      <td>A solid, chunky wine, with a structure that is...</td>\n",
       "      <td>&lt;NA&gt;</td>\n",
       "      <td>88</td>\n",
       "      <td>28.0</td>\n",
       "      <td>Bordeaux</td>\n",
       "      <td>Lalande de Pomerol</td>\n",
       "      <td>&lt;NA&gt;</td>\n",
       "      <td>&lt;NA&gt;</td>\n",
       "      <td>&lt;NA&gt;</td>\n",
       "      <td>&lt;NA&gt;</td>\n",
       "      <td>BORDEAUX-STYLE RED BLEND</td>\n",
       "      <td>Château Tour Grand Colombier</td>\n",
       "    </tr>\n",
       "    <tr>\n",
       "      <th>32440</th>\n",
       "      <td>France</td>\n",
       "      <td>This is powerful and concentrated, with the hi...</td>\n",
       "      <td>&lt;NA&gt;</td>\n",
       "      <td>94</td>\n",
       "      <td>130.0</td>\n",
       "      <td>Bordeaux</td>\n",
       "      <td>Saint-Émilion</td>\n",
       "      <td>&lt;NA&gt;</td>\n",
       "      <td>&lt;NA&gt;</td>\n",
       "      <td>&lt;NA&gt;</td>\n",
       "      <td>&lt;NA&gt;</td>\n",
       "      <td>BORDEAUX-STYLE RED BLEND</td>\n",
       "      <td>Château Figeac</td>\n",
       "    </tr>\n",
       "    <tr>\n",
       "      <th>124405</th>\n",
       "      <td>US</td>\n",
       "      <td>Rich, ripe and oaky, this Petite Sirah charms ...</td>\n",
       "      <td>Thompson Vineyard</td>\n",
       "      <td>89</td>\n",
       "      <td>34.0</td>\n",
       "      <td>California</td>\n",
       "      <td>Santa Barbara County</td>\n",
       "      <td>Central Coast</td>\n",
       "      <td>&lt;NA&gt;</td>\n",
       "      <td>&lt;NA&gt;</td>\n",
       "      <td>Jaffurs 2010 Thompson Vineyard Petite Sirah (S...</td>\n",
       "      <td>PETITE SIRAH</td>\n",
       "      <td>Jaffurs</td>\n",
       "    </tr>\n",
       "    <tr>\n",
       "      <th>33649</th>\n",
       "      <td>US</td>\n",
       "      <td>This wine is a unique in the state blend and f...</td>\n",
       "      <td>McKinley Springs Vineyard</td>\n",
       "      <td>89</td>\n",
       "      <td>24.0</td>\n",
       "      <td>Washington</td>\n",
       "      <td>Horse Heaven Hills</td>\n",
       "      <td>Columbia Valley</td>\n",
       "      <td>Sean P. Sullivan</td>\n",
       "      <td>@wawinereport</td>\n",
       "      <td>Syncline 2016 McKinley Springs Vineyard Rosé (...</td>\n",
       "      <td>ROSé</td>\n",
       "      <td>Syncline</td>\n",
       "    </tr>\n",
       "    <tr>\n",
       "      <th>...</th>\n",
       "      <td>...</td>\n",
       "      <td>...</td>\n",
       "      <td>...</td>\n",
       "      <td>...</td>\n",
       "      <td>...</td>\n",
       "      <td>...</td>\n",
       "      <td>...</td>\n",
       "      <td>...</td>\n",
       "      <td>...</td>\n",
       "      <td>...</td>\n",
       "      <td>...</td>\n",
       "      <td>...</td>\n",
       "      <td>...</td>\n",
       "    </tr>\n",
       "    <tr>\n",
       "      <th>51364</th>\n",
       "      <td>US</td>\n",
       "      <td>Named for the clone so beloved by winemakers, ...</td>\n",
       "      <td>Old Wente</td>\n",
       "      <td>93</td>\n",
       "      <td>55.0</td>\n",
       "      <td>California</td>\n",
       "      <td>Russian River Valley</td>\n",
       "      <td>Sonoma</td>\n",
       "      <td>Virginie Boone</td>\n",
       "      <td>@vboone</td>\n",
       "      <td>Lynmar 2014 Old Wente Chardonnay (Russian Rive...</td>\n",
       "      <td>CHARDONNAY</td>\n",
       "      <td>Lynmar</td>\n",
       "    </tr>\n",
       "    <tr>\n",
       "      <th>87223</th>\n",
       "      <td>Portugal</td>\n",
       "      <td>This is a fresh, fruity and juicy wine. Shot t...</td>\n",
       "      <td>Bojador Branco</td>\n",
       "      <td>85</td>\n",
       "      <td>14.0</td>\n",
       "      <td>Alentejano</td>\n",
       "      <td>&lt;NA&gt;</td>\n",
       "      <td>&lt;NA&gt;</td>\n",
       "      <td>Roger Voss</td>\n",
       "      <td>@vossroger</td>\n",
       "      <td>Espaço Rural 2014 Bojador Branco White (Alente...</td>\n",
       "      <td>PORTUGUESE WHITE</td>\n",
       "      <td>Espaço Rural</td>\n",
       "    </tr>\n",
       "    <tr>\n",
       "      <th>142217</th>\n",
       "      <td>Spain</td>\n",
       "      <td>Clean and toasty, with mineral and the slighte...</td>\n",
       "      <td>Cordon Negro Brut</td>\n",
       "      <td>85</td>\n",
       "      <td>10.0</td>\n",
       "      <td>Catalonia</td>\n",
       "      <td>Cava</td>\n",
       "      <td>&lt;NA&gt;</td>\n",
       "      <td>&lt;NA&gt;</td>\n",
       "      <td>&lt;NA&gt;</td>\n",
       "      <td>&lt;NA&gt;</td>\n",
       "      <td>SPARKLING BLEND</td>\n",
       "      <td>Freixenet</td>\n",
       "    </tr>\n",
       "    <tr>\n",
       "      <th>64741</th>\n",
       "      <td>US</td>\n",
       "      <td>A lovely Pinot Noir, showing flamboyantly ripe...</td>\n",
       "      <td>Estate Grown</td>\n",
       "      <td>90</td>\n",
       "      <td>65.0</td>\n",
       "      <td>California</td>\n",
       "      <td>Russian River Valley</td>\n",
       "      <td>Sonoma</td>\n",
       "      <td>&lt;NA&gt;</td>\n",
       "      <td>&lt;NA&gt;</td>\n",
       "      <td>&lt;NA&gt;</td>\n",
       "      <td>PINOT NOIR</td>\n",
       "      <td>Donum</td>\n",
       "    </tr>\n",
       "    <tr>\n",
       "      <th>91621</th>\n",
       "      <td>US</td>\n",
       "      <td>Made to benefit the exploratory organization, ...</td>\n",
       "      <td>National Geographic Ocean Reserve Blanc de Blancs</td>\n",
       "      <td>91</td>\n",
       "      <td>50.0</td>\n",
       "      <td>California</td>\n",
       "      <td>Green Valley</td>\n",
       "      <td>Sonoma</td>\n",
       "      <td>Virginie Boone</td>\n",
       "      <td>@vboone</td>\n",
       "      <td>Iron Horse 2013 National Geographic Ocean Rese...</td>\n",
       "      <td>SPARKLING BLEND</td>\n",
       "      <td>Iron Horse</td>\n",
       "    </tr>\n",
       "  </tbody>\n",
       "</table>\n",
       "<p>175000 rows × 13 columns</p>\n",
       "</div>"
      ],
      "text/plain": [
       "         country                                        description  \\\n",
       "id                                                                    \n",
       "32027   Portugal  This is a fine rich balanced wine. It has ripe...   \n",
       "71079     France  A solid, chunky wine, with a structure that is...   \n",
       "32440     France  This is powerful and concentrated, with the hi...   \n",
       "124405        US  Rich, ripe and oaky, this Petite Sirah charms ...   \n",
       "33649         US  This wine is a unique in the state blend and f...   \n",
       "...          ...                                                ...   \n",
       "51364         US  Named for the clone so beloved by winemakers, ...   \n",
       "87223   Portugal  This is a fresh, fruity and juicy wine. Shot t...   \n",
       "142217     Spain  Clean and toasty, with mineral and the slighte...   \n",
       "64741         US  A lovely Pinot Noir, showing flamboyantly ripe...   \n",
       "91621         US  Made to benefit the exploratory organization, ...   \n",
       "\n",
       "                                              designation  points  price  \\\n",
       "id                                                                         \n",
       "32027                                  Vila Santa Reserva      88   20.0   \n",
       "71079                                                <NA>      88   28.0   \n",
       "32440                                                <NA>      94  130.0   \n",
       "124405                                  Thompson Vineyard      89   34.0   \n",
       "33649                           McKinley Springs Vineyard      89   24.0   \n",
       "...                                                   ...     ...    ...   \n",
       "51364                                           Old Wente      93   55.0   \n",
       "87223                                      Bojador Branco      85   14.0   \n",
       "142217                                  Cordon Negro Brut      85   10.0   \n",
       "64741                                        Estate Grown      90   65.0   \n",
       "91621   National Geographic Ocean Reserve Blanc de Blancs      91   50.0   \n",
       "\n",
       "          province              region_1         region_2       taster_name  \\\n",
       "id                                                                            \n",
       "32027   Alentejano                  <NA>             <NA>              <NA>   \n",
       "71079     Bordeaux    Lalande de Pomerol             <NA>              <NA>   \n",
       "32440     Bordeaux         Saint-Émilion             <NA>              <NA>   \n",
       "124405  California  Santa Barbara County    Central Coast              <NA>   \n",
       "33649   Washington    Horse Heaven Hills  Columbia Valley  Sean P. Sullivan   \n",
       "...            ...                   ...              ...               ...   \n",
       "51364   California  Russian River Valley           Sonoma    Virginie Boone   \n",
       "87223   Alentejano                  <NA>             <NA>        Roger Voss   \n",
       "142217   Catalonia                  Cava             <NA>              <NA>   \n",
       "64741   California  Russian River Valley           Sonoma              <NA>   \n",
       "91621   California          Green Valley           Sonoma    Virginie Boone   \n",
       "\n",
       "       taster_twitter_handle  \\\n",
       "id                             \n",
       "32027                   <NA>   \n",
       "71079                   <NA>   \n",
       "32440                   <NA>   \n",
       "124405                  <NA>   \n",
       "33649          @wawinereport   \n",
       "...                      ...   \n",
       "51364                @vboone   \n",
       "87223             @vossroger   \n",
       "142217                  <NA>   \n",
       "64741                   <NA>   \n",
       "91621                @vboone   \n",
       "\n",
       "                                                    title  \\\n",
       "id                                                          \n",
       "32027                                                <NA>   \n",
       "71079                                                <NA>   \n",
       "32440                                                <NA>   \n",
       "124405  Jaffurs 2010 Thompson Vineyard Petite Sirah (S...   \n",
       "33649   Syncline 2016 McKinley Springs Vineyard Rosé (...   \n",
       "...                                                   ...   \n",
       "51364   Lynmar 2014 Old Wente Chardonnay (Russian Rive...   \n",
       "87223   Espaço Rural 2014 Bojador Branco White (Alente...   \n",
       "142217                                               <NA>   \n",
       "64741                                                <NA>   \n",
       "91621   Iron Horse 2013 National Geographic Ocean Rese...   \n",
       "\n",
       "                         variety                        winery  \n",
       "id                                                              \n",
       "32027             PORTUGUESE RED             J. Portugal Ramos  \n",
       "71079   BORDEAUX-STYLE RED BLEND  Château Tour Grand Colombier  \n",
       "32440   BORDEAUX-STYLE RED BLEND                Château Figeac  \n",
       "124405              PETITE SIRAH                       Jaffurs  \n",
       "33649                       ROSé                      Syncline  \n",
       "...                          ...                           ...  \n",
       "51364                 CHARDONNAY                        Lynmar  \n",
       "87223           PORTUGUESE WHITE                  Espaço Rural  \n",
       "142217           SPARKLING BLEND                     Freixenet  \n",
       "64741                 PINOT NOIR                         Donum  \n",
       "91621            SPARKLING BLEND                    Iron Horse  \n",
       "\n",
       "[175000 rows x 13 columns]"
      ]
     },
     "execution_count": 6,
     "metadata": {},
     "output_type": "execute_result"
    }
   ],
   "source": [
    "train_gdf"
   ]
  },
  {
   "cell_type": "code",
   "execution_count": 7,
   "id": "91ecb215",
   "metadata": {
    "execution": {
     "iopub.execute_input": "2022-03-16T14:09:09.606860Z",
     "iopub.status.busy": "2022-03-16T14:09:09.606082Z",
     "iopub.status.idle": "2022-03-16T14:09:09.627706Z",
     "shell.execute_reply": "2022-03-16T14:09:09.628378Z",
     "shell.execute_reply.started": "2022-03-16T11:53:02.949057Z"
    },
    "papermill": {
     "duration": 0.076213,
     "end_time": "2022-03-16T14:09:09.628583",
     "exception": false,
     "start_time": "2022-03-16T14:09:09.552370",
     "status": "completed"
    },
    "tags": []
   },
   "outputs": [
    {
     "name": "stdout",
     "output_type": "stream",
     "text": [
      "<class 'cudf.core.dataframe.DataFrame'>\n",
      "Int64Index: 175000 entries, 32027 to 91621\n",
      "Data columns (total 13 columns):\n",
      " #   Column                 Non-Null Count   Dtype\n",
      "---  ------                 --------------   -----\n",
      " 0   country                174953 non-null  object\n",
      " 1   description            175000 non-null  object\n",
      " 2   designation            122734 non-null  object\n",
      " 3   points                 175000 non-null  int64\n",
      " 4   price                  175000 non-null  float64\n",
      " 5   province               174953 non-null  object\n",
      " 6   region_1               146466 non-null  object\n",
      " 7   region_2               75394 non-null   object\n",
      " 8   taster_name            65509 non-null   object\n",
      " 9   taster_twitter_handle  62190 non-null   object\n",
      " 10  title                  82189 non-null   object\n",
      " 11  variety                174999 non-null  object\n",
      " 12  winery                 175000 non-null  object\n",
      "dtypes: float64(1), int64(1), object(11)\n",
      "memory usage: 68.8+ MB\n"
     ]
    }
   ],
   "source": [
    "train_gdf.info()"
   ]
  },
  {
   "cell_type": "code",
   "execution_count": 8,
   "id": "95655c5b",
   "metadata": {
    "execution": {
     "iopub.execute_input": "2022-03-16T14:09:09.739637Z",
     "iopub.status.busy": "2022-03-16T14:09:09.736221Z",
     "iopub.status.idle": "2022-03-16T14:09:09.878036Z",
     "shell.execute_reply": "2022-03-16T14:09:09.878535Z",
     "shell.execute_reply.started": "2022-03-16T11:53:14.778811Z"
    },
    "papermill": {
     "duration": 0.197009,
     "end_time": "2022-03-16T14:09:09.878703",
     "exception": false,
     "start_time": "2022-03-16T14:09:09.681694",
     "status": "completed"
    },
    "tags": []
   },
   "outputs": [
    {
     "data": {
      "text/html": [
       "<div>\n",
       "<style scoped>\n",
       "    .dataframe tbody tr th:only-of-type {\n",
       "        vertical-align: middle;\n",
       "    }\n",
       "\n",
       "    .dataframe tbody tr th {\n",
       "        vertical-align: top;\n",
       "    }\n",
       "\n",
       "    .dataframe thead th {\n",
       "        text-align: right;\n",
       "    }\n",
       "</style>\n",
       "<table border=\"1\" class=\"dataframe\">\n",
       "  <thead>\n",
       "    <tr style=\"text-align: right;\">\n",
       "      <th></th>\n",
       "      <th>index</th>\n",
       "      <th>country</th>\n",
       "      <th>description</th>\n",
       "      <th>designation</th>\n",
       "      <th>points</th>\n",
       "      <th>price</th>\n",
       "      <th>province</th>\n",
       "      <th>region_1</th>\n",
       "      <th>region_2</th>\n",
       "      <th>taster_name</th>\n",
       "      <th>taster_twitter_handle</th>\n",
       "      <th>title</th>\n",
       "      <th>variety</th>\n",
       "      <th>winery</th>\n",
       "    </tr>\n",
       "    <tr>\n",
       "      <th>id</th>\n",
       "      <th></th>\n",
       "      <th></th>\n",
       "      <th></th>\n",
       "      <th></th>\n",
       "      <th></th>\n",
       "      <th></th>\n",
       "      <th></th>\n",
       "      <th></th>\n",
       "      <th></th>\n",
       "      <th></th>\n",
       "      <th></th>\n",
       "      <th></th>\n",
       "      <th></th>\n",
       "      <th></th>\n",
       "    </tr>\n",
       "  </thead>\n",
       "  <tbody>\n",
       "    <tr>\n",
       "      <th>0</th>\n",
       "      <td>41855</td>\n",
       "      <td>US</td>\n",
       "      <td>Sweet new oak stands out, giving this Cabernet...</td>\n",
       "      <td>3D</td>\n",
       "      <td>95</td>\n",
       "      <td>&lt;NA&gt;</td>\n",
       "      <td>California</td>\n",
       "      <td>St. Helena</td>\n",
       "      <td>Napa</td>\n",
       "      <td>&lt;NA&gt;</td>\n",
       "      <td>&lt;NA&gt;</td>\n",
       "      <td>Salvestrin 2007 3D Cabernet Sauvignon (St. Hel...</td>\n",
       "      <td>CABERNET SAUVIGNON</td>\n",
       "      <td>Salvestrin</td>\n",
       "    </tr>\n",
       "    <tr>\n",
       "      <th>1</th>\n",
       "      <td>10328</td>\n",
       "      <td>France</td>\n",
       "      <td>Charming raspberry aromas intertwine with scen...</td>\n",
       "      <td>Heluicum</td>\n",
       "      <td>90</td>\n",
       "      <td>&lt;NA&gt;</td>\n",
       "      <td>Rhône Valley</td>\n",
       "      <td>Collines Rhôdaniennes</td>\n",
       "      <td>&lt;NA&gt;</td>\n",
       "      <td>&lt;NA&gt;</td>\n",
       "      <td>&lt;NA&gt;</td>\n",
       "      <td>&lt;NA&gt;</td>\n",
       "      <td>SYRAH</td>\n",
       "      <td>Les Vins de Vienne</td>\n",
       "    </tr>\n",
       "    <tr>\n",
       "      <th>2</th>\n",
       "      <td>60094</td>\n",
       "      <td>US</td>\n",
       "      <td>Ripe blackberry, leather and soy show on the n...</td>\n",
       "      <td>Estate</td>\n",
       "      <td>88</td>\n",
       "      <td>&lt;NA&gt;</td>\n",
       "      <td>California</td>\n",
       "      <td>Santa Ynez Valley</td>\n",
       "      <td>Central Coast</td>\n",
       "      <td>Matt Kettmann</td>\n",
       "      <td>@mattkettmann</td>\n",
       "      <td>Brave &amp; Maiden 2013 Estate Cabernet Franc (San...</td>\n",
       "      <td>CABERNET FRANC</td>\n",
       "      <td>Brave &amp; Maiden</td>\n",
       "    </tr>\n",
       "    <tr>\n",
       "      <th>3</th>\n",
       "      <td>48333</td>\n",
       "      <td>US</td>\n",
       "      <td>White flowers and wild anise give this a crisp...</td>\n",
       "      <td>&lt;NA&gt;</td>\n",
       "      <td>89</td>\n",
       "      <td>&lt;NA&gt;</td>\n",
       "      <td>California</td>\n",
       "      <td>Sonoma Coast</td>\n",
       "      <td>Sonoma</td>\n",
       "      <td>Virginie Boone</td>\n",
       "      <td>@vboone</td>\n",
       "      <td>Les Voleurs 2013 Chardonnay (Sonoma Coast)</td>\n",
       "      <td>CHARDONNAY</td>\n",
       "      <td>Les Voleurs</td>\n",
       "    </tr>\n",
       "    <tr>\n",
       "      <th>4</th>\n",
       "      <td>14498</td>\n",
       "      <td>US</td>\n",
       "      <td>Pinot Gris has been making inroads in Washingt...</td>\n",
       "      <td>&lt;NA&gt;</td>\n",
       "      <td>88</td>\n",
       "      <td>&lt;NA&gt;</td>\n",
       "      <td>Washington</td>\n",
       "      <td>Columbia Valley (WA)</td>\n",
       "      <td>Columbia Valley</td>\n",
       "      <td>Sean P. Sullivan</td>\n",
       "      <td>@wawinereport</td>\n",
       "      <td>Chateau Ste. Michelle 2015 Pinot Gris (Columbi...</td>\n",
       "      <td>PINOT GRIS</td>\n",
       "      <td>Chateau Ste. Michelle</td>\n",
       "    </tr>\n",
       "    <tr>\n",
       "      <th>...</th>\n",
       "      <td>...</td>\n",
       "      <td>...</td>\n",
       "      <td>...</td>\n",
       "      <td>...</td>\n",
       "      <td>...</td>\n",
       "      <td>...</td>\n",
       "      <td>...</td>\n",
       "      <td>...</td>\n",
       "      <td>...</td>\n",
       "      <td>...</td>\n",
       "      <td>...</td>\n",
       "      <td>...</td>\n",
       "      <td>...</td>\n",
       "      <td>...</td>\n",
       "    </tr>\n",
       "    <tr>\n",
       "      <th>83205</th>\n",
       "      <td>48152</td>\n",
       "      <td>US</td>\n",
       "      <td>A simple, direct wine, pretty full-bodied for ...</td>\n",
       "      <td>Le Pique-Nique</td>\n",
       "      <td>81</td>\n",
       "      <td>&lt;NA&gt;</td>\n",
       "      <td>California</td>\n",
       "      <td>Sonoma Valley</td>\n",
       "      <td>Sonoma</td>\n",
       "      <td>&lt;NA&gt;</td>\n",
       "      <td>&lt;NA&gt;</td>\n",
       "      <td>&lt;NA&gt;</td>\n",
       "      <td>ROSé</td>\n",
       "      <td>Wellington</td>\n",
       "    </tr>\n",
       "    <tr>\n",
       "      <th>83206</th>\n",
       "      <td>103366</td>\n",
       "      <td>US</td>\n",
       "      <td>This dry, spicy wine shows the rustic, rugged ...</td>\n",
       "      <td>Rebecca's Vineyard</td>\n",
       "      <td>87</td>\n",
       "      <td>&lt;NA&gt;</td>\n",
       "      <td>California</td>\n",
       "      <td>Dry Creek Valley</td>\n",
       "      <td>Sonoma</td>\n",
       "      <td>&lt;NA&gt;</td>\n",
       "      <td>&lt;NA&gt;</td>\n",
       "      <td>&lt;NA&gt;</td>\n",
       "      <td>CABERNET SAUVIGNON</td>\n",
       "      <td>Forth</td>\n",
       "    </tr>\n",
       "    <tr>\n",
       "      <th>83207</th>\n",
       "      <td>145186</td>\n",
       "      <td>Italy</td>\n",
       "      <td>Attractive apricot, peach and honey aromas vie...</td>\n",
       "      <td>Aurente</td>\n",
       "      <td>89</td>\n",
       "      <td>&lt;NA&gt;</td>\n",
       "      <td>Central Italy</td>\n",
       "      <td>Umbria</td>\n",
       "      <td>&lt;NA&gt;</td>\n",
       "      <td>&lt;NA&gt;</td>\n",
       "      <td>&lt;NA&gt;</td>\n",
       "      <td>&lt;NA&gt;</td>\n",
       "      <td>CHARDONNAY</td>\n",
       "      <td>Lungarotti</td>\n",
       "    </tr>\n",
       "    <tr>\n",
       "      <th>83208</th>\n",
       "      <td>52682</td>\n",
       "      <td>France</td>\n",
       "      <td>Red cherries and jelly fruits highlight a wine...</td>\n",
       "      <td>&lt;NA&gt;</td>\n",
       "      <td>84</td>\n",
       "      <td>&lt;NA&gt;</td>\n",
       "      <td>Burgundy</td>\n",
       "      <td>Bourgogne</td>\n",
       "      <td>&lt;NA&gt;</td>\n",
       "      <td>&lt;NA&gt;</td>\n",
       "      <td>&lt;NA&gt;</td>\n",
       "      <td>&lt;NA&gt;</td>\n",
       "      <td>PINOT NOIR</td>\n",
       "      <td>Bouchard Père &amp; Fils</td>\n",
       "    </tr>\n",
       "    <tr>\n",
       "      <th>83209</th>\n",
       "      <td>107107</td>\n",
       "      <td>Italy</td>\n",
       "      <td>Tasca d'Almerita makes what may be the best ex...</td>\n",
       "      <td>&lt;NA&gt;</td>\n",
       "      <td>92</td>\n",
       "      <td>&lt;NA&gt;</td>\n",
       "      <td>Sicily &amp; Sardinia</td>\n",
       "      <td>Sicilia</td>\n",
       "      <td>&lt;NA&gt;</td>\n",
       "      <td>&lt;NA&gt;</td>\n",
       "      <td>&lt;NA&gt;</td>\n",
       "      <td>&lt;NA&gt;</td>\n",
       "      <td>CABERNET SAUVIGNON</td>\n",
       "      <td>Tasca d'Almerita</td>\n",
       "    </tr>\n",
       "  </tbody>\n",
       "</table>\n",
       "<p>83210 rows × 14 columns</p>\n",
       "</div>"
      ],
      "text/plain": [
       "        index country                                        description  \\\n",
       "id                                                                         \n",
       "0       41855      US  Sweet new oak stands out, giving this Cabernet...   \n",
       "1       10328  France  Charming raspberry aromas intertwine with scen...   \n",
       "2       60094      US  Ripe blackberry, leather and soy show on the n...   \n",
       "3       48333      US  White flowers and wild anise give this a crisp...   \n",
       "4       14498      US  Pinot Gris has been making inroads in Washingt...   \n",
       "...       ...     ...                                                ...   \n",
       "83205   48152      US  A simple, direct wine, pretty full-bodied for ...   \n",
       "83206  103366      US  This dry, spicy wine shows the rustic, rugged ...   \n",
       "83207  145186   Italy  Attractive apricot, peach and honey aromas vie...   \n",
       "83208   52682  France  Red cherries and jelly fruits highlight a wine...   \n",
       "83209  107107   Italy  Tasca d'Almerita makes what may be the best ex...   \n",
       "\n",
       "              designation  points price           province  \\\n",
       "id                                                           \n",
       "0                      3D      95  <NA>         California   \n",
       "1                Heluicum      90  <NA>       Rhône Valley   \n",
       "2                  Estate      88  <NA>         California   \n",
       "3                    <NA>      89  <NA>         California   \n",
       "4                    <NA>      88  <NA>         Washington   \n",
       "...                   ...     ...   ...                ...   \n",
       "83205      Le Pique-Nique      81  <NA>         California   \n",
       "83206  Rebecca's Vineyard      87  <NA>         California   \n",
       "83207             Aurente      89  <NA>      Central Italy   \n",
       "83208                <NA>      84  <NA>           Burgundy   \n",
       "83209                <NA>      92  <NA>  Sicily & Sardinia   \n",
       "\n",
       "                    region_1         region_2       taster_name  \\\n",
       "id                                                                \n",
       "0                 St. Helena             Napa              <NA>   \n",
       "1      Collines Rhôdaniennes             <NA>              <NA>   \n",
       "2          Santa Ynez Valley    Central Coast     Matt Kettmann   \n",
       "3               Sonoma Coast           Sonoma    Virginie Boone   \n",
       "4       Columbia Valley (WA)  Columbia Valley  Sean P. Sullivan   \n",
       "...                      ...              ...               ...   \n",
       "83205          Sonoma Valley           Sonoma              <NA>   \n",
       "83206       Dry Creek Valley           Sonoma              <NA>   \n",
       "83207                 Umbria             <NA>              <NA>   \n",
       "83208              Bourgogne             <NA>              <NA>   \n",
       "83209                Sicilia             <NA>              <NA>   \n",
       "\n",
       "      taster_twitter_handle  \\\n",
       "id                            \n",
       "0                      <NA>   \n",
       "1                      <NA>   \n",
       "2             @mattkettmann   \n",
       "3                   @vboone   \n",
       "4             @wawinereport   \n",
       "...                     ...   \n",
       "83205                  <NA>   \n",
       "83206                  <NA>   \n",
       "83207                  <NA>   \n",
       "83208                  <NA>   \n",
       "83209                  <NA>   \n",
       "\n",
       "                                                   title             variety  \\\n",
       "id                                                                             \n",
       "0      Salvestrin 2007 3D Cabernet Sauvignon (St. Hel...  CABERNET SAUVIGNON   \n",
       "1                                                   <NA>               SYRAH   \n",
       "2      Brave & Maiden 2013 Estate Cabernet Franc (San...      CABERNET FRANC   \n",
       "3             Les Voleurs 2013 Chardonnay (Sonoma Coast)          CHARDONNAY   \n",
       "4      Chateau Ste. Michelle 2015 Pinot Gris (Columbi...          PINOT GRIS   \n",
       "...                                                  ...                 ...   \n",
       "83205                                               <NA>                ROSé   \n",
       "83206                                               <NA>  CABERNET SAUVIGNON   \n",
       "83207                                               <NA>          CHARDONNAY   \n",
       "83208                                               <NA>          PINOT NOIR   \n",
       "83209                                               <NA>  CABERNET SAUVIGNON   \n",
       "\n",
       "                      winery  \n",
       "id                            \n",
       "0                 Salvestrin  \n",
       "1         Les Vins de Vienne  \n",
       "2             Brave & Maiden  \n",
       "3                Les Voleurs  \n",
       "4      Chateau Ste. Michelle  \n",
       "...                      ...  \n",
       "83205             Wellington  \n",
       "83206                  Forth  \n",
       "83207             Lungarotti  \n",
       "83208   Bouchard Père & Fils  \n",
       "83209       Tasca d'Almerita  \n",
       "\n",
       "[83210 rows x 14 columns]"
      ]
     },
     "execution_count": 8,
     "metadata": {},
     "output_type": "execute_result"
    }
   ],
   "source": [
    "test_gdf"
   ]
  },
  {
   "cell_type": "markdown",
   "id": "2da32b24",
   "metadata": {
    "papermill": {
     "duration": 0.05212,
     "end_time": "2022-03-16T14:09:09.983567",
     "exception": false,
     "start_time": "2022-03-16T14:09:09.931447",
     "status": "completed"
    },
    "tags": []
   },
   "source": [
    "## We need to handle null values and preprocess data before model building"
   ]
  },
  {
   "cell_type": "code",
   "execution_count": 9,
   "id": "5bda5c17",
   "metadata": {
    "execution": {
     "iopub.execute_input": "2022-03-16T14:09:10.094191Z",
     "iopub.status.busy": "2022-03-16T14:09:10.093368Z",
     "iopub.status.idle": "2022-03-16T14:09:10.104365Z",
     "shell.execute_reply": "2022-03-16T14:09:10.103681Z",
     "shell.execute_reply.started": "2022-03-16T11:53:39.889441Z"
    },
    "papermill": {
     "duration": 0.068447,
     "end_time": "2022-03-16T14:09:10.104520",
     "exception": false,
     "start_time": "2022-03-16T14:09:10.036073",
     "status": "completed"
    },
    "tags": []
   },
   "outputs": [
    {
     "name": "stdout",
     "output_type": "stream",
     "text": [
      "<class 'cudf.core.dataframe.DataFrame'>\n",
      "Int64Index: 175000 entries, 32027 to 91621\n",
      "Data columns (total 13 columns):\n",
      " #   Column                 Non-Null Count   Dtype\n",
      "---  ------                 --------------   -----\n",
      " 0   country                174953 non-null  object\n",
      " 1   description            175000 non-null  object\n",
      " 2   designation            122734 non-null  object\n",
      " 3   points                 175000 non-null  int64\n",
      " 4   price                  175000 non-null  float64\n",
      " 5   province               174953 non-null  object\n",
      " 6   region_1               146466 non-null  object\n",
      " 7   region_2               75394 non-null   object\n",
      " 8   taster_name            65509 non-null   object\n",
      " 9   taster_twitter_handle  62190 non-null   object\n",
      " 10  title                  82189 non-null   object\n",
      " 11  variety                174999 non-null  object\n",
      " 12  winery                 175000 non-null  object\n",
      "dtypes: float64(1), int64(1), object(11)\n",
      "memory usage: 68.8+ MB\n"
     ]
    }
   ],
   "source": [
    "train_gdf.info()"
   ]
  },
  {
   "cell_type": "markdown",
   "id": "9aaa9439",
   "metadata": {
    "papermill": {
     "duration": 0.052104,
     "end_time": "2022-03-16T14:09:10.210133",
     "exception": false,
     "start_time": "2022-03-16T14:09:10.158029",
     "status": "completed"
    },
    "tags": []
   },
   "source": [
    "### Twitter handle, taster_name, id are irrelevant for model training so we drop these from test and train"
   ]
  },
  {
   "cell_type": "code",
   "execution_count": 10,
   "id": "4739b4bb",
   "metadata": {
    "execution": {
     "iopub.execute_input": "2022-03-16T14:09:10.336518Z",
     "iopub.status.busy": "2022-03-16T14:09:10.335609Z",
     "iopub.status.idle": "2022-03-16T14:09:10.348537Z",
     "shell.execute_reply": "2022-03-16T14:09:10.348077Z",
     "shell.execute_reply.started": "2022-03-16T11:53:51.778871Z"
    },
    "papermill": {
     "duration": 0.076785,
     "end_time": "2022-03-16T14:09:10.348728",
     "exception": false,
     "start_time": "2022-03-16T14:09:10.271943",
     "status": "completed"
    },
    "tags": []
   },
   "outputs": [],
   "source": [
    "train_gdf=train_gdf.drop(['taster_name','taster_twitter_handle','title'],axis=1)\n",
    "\n",
    "test_gdf=test_gdf.drop(['taster_name','taster_twitter_handle','title','price','index'],axis=1)"
   ]
  },
  {
   "cell_type": "code",
   "execution_count": 11,
   "id": "e3126e36",
   "metadata": {
    "execution": {
     "iopub.execute_input": "2022-03-16T14:09:10.467397Z",
     "iopub.status.busy": "2022-03-16T14:09:10.466830Z",
     "iopub.status.idle": "2022-03-16T14:09:10.496550Z",
     "shell.execute_reply": "2022-03-16T14:09:10.496922Z",
     "shell.execute_reply.started": "2022-03-16T11:54:10.823528Z"
    },
    "papermill": {
     "duration": 0.08758,
     "end_time": "2022-03-16T14:09:10.497060",
     "exception": false,
     "start_time": "2022-03-16T14:09:10.409480",
     "status": "completed"
    },
    "tags": []
   },
   "outputs": [
    {
     "data": {
      "text/plain": [
       "count    175000.000000\n",
       "mean         87.581606\n",
       "std           3.195285\n",
       "min          79.000000\n",
       "25%          85.000000\n",
       "50%          87.000000\n",
       "75%          90.000000\n",
       "max         100.000000\n",
       "Name: points, dtype: float64"
      ]
     },
     "execution_count": 11,
     "metadata": {},
     "output_type": "execute_result"
    }
   ],
   "source": [
    "train_gdf['points'].describe()"
   ]
  },
  {
   "cell_type": "code",
   "execution_count": 12,
   "id": "3f809ae5",
   "metadata": {
    "execution": {
     "iopub.execute_input": "2022-03-16T14:09:10.608388Z",
     "iopub.status.busy": "2022-03-16T14:09:10.607572Z",
     "iopub.status.idle": "2022-03-16T14:09:10.640156Z",
     "shell.execute_reply": "2022-03-16T14:09:10.639747Z",
     "shell.execute_reply.started": "2022-03-16T11:54:13.915675Z"
    },
    "papermill": {
     "duration": 0.090203,
     "end_time": "2022-03-16T14:09:10.640266",
     "exception": false,
     "start_time": "2022-03-16T14:09:10.550063",
     "status": "completed"
    },
    "tags": []
   },
   "outputs": [
    {
     "data": {
      "text/plain": [
       "Counter({88: 18585,\n",
       "         94: 3183,\n",
       "         89: 17616,\n",
       "         83: 8353,\n",
       "         85: 15840,\n",
       "         81: 2676,\n",
       "         92: 9466,\n",
       "         87: 22729,\n",
       "         82: 4911,\n",
       "         84: 12338,\n",
       "         86: 20665,\n",
       "         90: 16374,\n",
       "         91: 12508,\n",
       "         95: 1332,\n",
       "         80: 1231,\n",
       "         93: 5866,\n",
       "         96: 521,\n",
       "         79: 423,\n",
       "         97: 243,\n",
       "         98: 86,\n",
       "         99: 37,\n",
       "         100: 17})"
      ]
     },
     "execution_count": 12,
     "metadata": {},
     "output_type": "execute_result"
    }
   ],
   "source": [
    "from collections import Counter\n",
    "Counter(train_gdf['points'].to_pandas())"
   ]
  },
  {
   "cell_type": "markdown",
   "id": "aabec816",
   "metadata": {
    "papermill": {
     "duration": 0.053225,
     "end_time": "2022-03-16T14:09:10.747323",
     "exception": false,
     "start_time": "2022-03-16T14:09:10.694098",
     "status": "completed"
    },
    "tags": []
   },
   "source": [
    "Missing values"
   ]
  },
  {
   "cell_type": "code",
   "execution_count": 13,
   "id": "2b13adf1",
   "metadata": {
    "execution": {
     "iopub.execute_input": "2022-03-16T14:09:10.859738Z",
     "iopub.status.busy": "2022-03-16T14:09:10.858888Z",
     "iopub.status.idle": "2022-03-16T14:09:10.905141Z",
     "shell.execute_reply": "2022-03-16T14:09:10.904572Z",
     "shell.execute_reply.started": "2022-03-16T11:54:19.467017Z"
    },
    "papermill": {
     "duration": 0.10478,
     "end_time": "2022-03-16T14:09:10.905291",
     "exception": false,
     "start_time": "2022-03-16T14:09:10.800511",
     "status": "completed"
    },
    "tags": []
   },
   "outputs": [
    {
     "name": "stdout",
     "output_type": "stream",
     "text": [
      "Missing values in train\n"
     ]
    },
    {
     "data": {
      "text/html": [
       "<div>\n",
       "<style scoped>\n",
       "    .dataframe tbody tr th:only-of-type {\n",
       "        vertical-align: middle;\n",
       "    }\n",
       "\n",
       "    .dataframe tbody tr th {\n",
       "        vertical-align: top;\n",
       "    }\n",
       "\n",
       "    .dataframe thead th {\n",
       "        text-align: right;\n",
       "    }\n",
       "</style>\n",
       "<table border=\"1\" class=\"dataframe\">\n",
       "  <thead>\n",
       "    <tr style=\"text-align: right;\">\n",
       "      <th></th>\n",
       "      <th>0</th>\n",
       "      <th>1</th>\n",
       "    </tr>\n",
       "  </thead>\n",
       "  <tbody>\n",
       "    <tr>\n",
       "      <th>region_2</th>\n",
       "      <td>99606</td>\n",
       "      <td>0.569177</td>\n",
       "    </tr>\n",
       "    <tr>\n",
       "      <th>designation</th>\n",
       "      <td>52266</td>\n",
       "      <td>0.298663</td>\n",
       "    </tr>\n",
       "    <tr>\n",
       "      <th>region_1</th>\n",
       "      <td>28534</td>\n",
       "      <td>0.163051</td>\n",
       "    </tr>\n",
       "    <tr>\n",
       "      <th>country</th>\n",
       "      <td>47</td>\n",
       "      <td>0.000269</td>\n",
       "    </tr>\n",
       "    <tr>\n",
       "      <th>province</th>\n",
       "      <td>47</td>\n",
       "      <td>0.000269</td>\n",
       "    </tr>\n",
       "    <tr>\n",
       "      <th>variety</th>\n",
       "      <td>1</td>\n",
       "      <td>0.000006</td>\n",
       "    </tr>\n",
       "    <tr>\n",
       "      <th>description</th>\n",
       "      <td>0</td>\n",
       "      <td>0.000000</td>\n",
       "    </tr>\n",
       "    <tr>\n",
       "      <th>points</th>\n",
       "      <td>0</td>\n",
       "      <td>0.000000</td>\n",
       "    </tr>\n",
       "    <tr>\n",
       "      <th>price</th>\n",
       "      <td>0</td>\n",
       "      <td>0.000000</td>\n",
       "    </tr>\n",
       "    <tr>\n",
       "      <th>winery</th>\n",
       "      <td>0</td>\n",
       "      <td>0.000000</td>\n",
       "    </tr>\n",
       "  </tbody>\n",
       "</table>\n",
       "</div>"
      ],
      "text/plain": [
       "                 0         1\n",
       "region_2     99606  0.569177\n",
       "designation  52266  0.298663\n",
       "region_1     28534  0.163051\n",
       "country         47  0.000269\n",
       "province        47  0.000269\n",
       "variety          1  0.000006\n",
       "description      0  0.000000\n",
       "points           0  0.000000\n",
       "price            0  0.000000\n",
       "winery           0  0.000000"
      ]
     },
     "execution_count": 13,
     "metadata": {},
     "output_type": "execute_result"
    }
   ],
   "source": [
    "print('Missing values in train')\n",
    "total = train_gdf.isnull().sum().sort_values(ascending=False)\n",
    "percent = (train_gdf.isnull().sum()/train_gdf.isnull().count()).sort_values(ascending=False)\n",
    "missing_data = pd.concat([total, percent], axis=1)\n",
    "missing_data.head(30)"
   ]
  },
  {
   "cell_type": "code",
   "execution_count": 14,
   "id": "7875f812",
   "metadata": {
    "execution": {
     "iopub.execute_input": "2022-03-16T14:09:11.021476Z",
     "iopub.status.busy": "2022-03-16T14:09:11.020665Z",
     "iopub.status.idle": "2022-03-16T14:09:11.049526Z",
     "shell.execute_reply": "2022-03-16T14:09:11.050103Z",
     "shell.execute_reply.started": "2022-03-16T11:54:19.734907Z"
    },
    "papermill": {
     "duration": 0.089356,
     "end_time": "2022-03-16T14:09:11.050272",
     "exception": false,
     "start_time": "2022-03-16T14:09:10.960916",
     "status": "completed"
    },
    "tags": []
   },
   "outputs": [
    {
     "name": "stdout",
     "output_type": "stream",
     "text": [
      "Missing values in test\n"
     ]
    },
    {
     "data": {
      "text/html": [
       "<div>\n",
       "<style scoped>\n",
       "    .dataframe tbody tr th:only-of-type {\n",
       "        vertical-align: middle;\n",
       "    }\n",
       "\n",
       "    .dataframe tbody tr th {\n",
       "        vertical-align: top;\n",
       "    }\n",
       "\n",
       "    .dataframe thead th {\n",
       "        text-align: right;\n",
       "    }\n",
       "</style>\n",
       "<table border=\"1\" class=\"dataframe\">\n",
       "  <thead>\n",
       "    <tr style=\"text-align: right;\">\n",
       "      <th></th>\n",
       "      <th>0</th>\n",
       "      <th>1</th>\n",
       "    </tr>\n",
       "  </thead>\n",
       "  <tbody>\n",
       "    <tr>\n",
       "      <th>region_2</th>\n",
       "      <td>47608</td>\n",
       "      <td>0.572143</td>\n",
       "    </tr>\n",
       "    <tr>\n",
       "      <th>designation</th>\n",
       "      <td>24824</td>\n",
       "      <td>0.298330</td>\n",
       "    </tr>\n",
       "    <tr>\n",
       "      <th>region_1</th>\n",
       "      <td>13883</td>\n",
       "      <td>0.166843</td>\n",
       "    </tr>\n",
       "    <tr>\n",
       "      <th>country</th>\n",
       "      <td>17</td>\n",
       "      <td>0.000204</td>\n",
       "    </tr>\n",
       "    <tr>\n",
       "      <th>province</th>\n",
       "      <td>17</td>\n",
       "      <td>0.000204</td>\n",
       "    </tr>\n",
       "    <tr>\n",
       "      <th>description</th>\n",
       "      <td>0</td>\n",
       "      <td>0.000000</td>\n",
       "    </tr>\n",
       "    <tr>\n",
       "      <th>points</th>\n",
       "      <td>0</td>\n",
       "      <td>0.000000</td>\n",
       "    </tr>\n",
       "    <tr>\n",
       "      <th>variety</th>\n",
       "      <td>0</td>\n",
       "      <td>0.000000</td>\n",
       "    </tr>\n",
       "    <tr>\n",
       "      <th>winery</th>\n",
       "      <td>0</td>\n",
       "      <td>0.000000</td>\n",
       "    </tr>\n",
       "  </tbody>\n",
       "</table>\n",
       "</div>"
      ],
      "text/plain": [
       "                 0         1\n",
       "region_2     47608  0.572143\n",
       "designation  24824  0.298330\n",
       "region_1     13883  0.166843\n",
       "country         17  0.000204\n",
       "province        17  0.000204\n",
       "description      0  0.000000\n",
       "points           0  0.000000\n",
       "variety          0  0.000000\n",
       "winery           0  0.000000"
      ]
     },
     "execution_count": 14,
     "metadata": {},
     "output_type": "execute_result"
    }
   ],
   "source": [
    "print('Missing values in test')\n",
    "total = test_gdf.isnull().sum().sort_values(ascending=False)\n",
    "percent = (test_gdf.isnull().sum()/test_gdf.isnull().count()).sort_values(ascending=False)\n",
    "missing_data = pd.concat([total, percent], axis=1)\n",
    "missing_data.head(30)"
   ]
  },
  {
   "cell_type": "code",
   "execution_count": 15,
   "id": "051eb97a",
   "metadata": {
    "execution": {
     "iopub.execute_input": "2022-03-16T14:09:11.168751Z",
     "iopub.status.busy": "2022-03-16T14:09:11.168066Z",
     "iopub.status.idle": "2022-03-16T14:09:11.196636Z",
     "shell.execute_reply": "2022-03-16T14:09:11.197173Z",
     "shell.execute_reply.started": "2022-03-16T11:10:11.099629Z"
    },
    "papermill": {
     "duration": 0.090294,
     "end_time": "2022-03-16T14:09:11.197349",
     "exception": false,
     "start_time": "2022-03-16T14:09:11.107055",
     "status": "completed"
    },
    "tags": []
   },
   "outputs": [
    {
     "name": "stdout",
     "output_type": "stream",
     "text": [
      "count             75394\n",
      "unique               19\n",
      "top       Central Coast\n",
      "freq              16174\n",
      "Name: region_2, dtype: object\n"
     ]
    }
   ],
   "source": [
    "print(train_gdf['region_2'].describe())"
   ]
  },
  {
   "cell_type": "markdown",
   "id": "ed70be3b",
   "metadata": {
    "papermill": {
     "duration": 0.056609,
     "end_time": "2022-03-16T14:09:11.310313",
     "exception": false,
     "start_time": "2022-03-16T14:09:11.253704",
     "status": "completed"
    },
    "tags": []
   },
   "source": [
    "Region 2 has lot of missing values so we drop it"
   ]
  },
  {
   "cell_type": "code",
   "execution_count": 16,
   "id": "80bbb197",
   "metadata": {
    "execution": {
     "iopub.execute_input": "2022-03-16T14:09:11.429221Z",
     "iopub.status.busy": "2022-03-16T14:09:11.427688Z",
     "iopub.status.idle": "2022-03-16T14:09:11.429811Z",
     "shell.execute_reply": "2022-03-16T14:09:11.430214Z",
     "shell.execute_reply.started": "2022-03-16T11:54:27.496248Z"
    },
    "papermill": {
     "duration": 0.063684,
     "end_time": "2022-03-16T14:09:11.430338",
     "exception": false,
     "start_time": "2022-03-16T14:09:11.366654",
     "status": "completed"
    },
    "tags": []
   },
   "outputs": [],
   "source": [
    "train_gdf.drop('region_2',axis=1,inplace=True)\n",
    "test_gdf.drop('region_2',axis=1,inplace=True)"
   ]
  },
  {
   "cell_type": "markdown",
   "id": "24128b9c",
   "metadata": {
    "papermill": {
     "duration": 0.055145,
     "end_time": "2022-03-16T14:09:11.542757",
     "exception": false,
     "start_time": "2022-03-16T14:09:11.487612",
     "status": "completed"
    },
    "tags": []
   },
   "source": [
    "## Filling mode wont make sense as province and country and designation are interrelated so we fill \"missing\""
   ]
  },
  {
   "cell_type": "code",
   "execution_count": 17,
   "id": "e16a1705",
   "metadata": {
    "execution": {
     "iopub.execute_input": "2022-03-16T14:09:11.660399Z",
     "iopub.status.busy": "2022-03-16T14:09:11.659625Z",
     "iopub.status.idle": "2022-03-16T14:09:11.685132Z",
     "shell.execute_reply": "2022-03-16T14:09:11.684533Z",
     "shell.execute_reply.started": "2022-03-16T11:55:04.758769Z"
    },
    "papermill": {
     "duration": 0.086202,
     "end_time": "2022-03-16T14:09:11.685276",
     "exception": false,
     "start_time": "2022-03-16T14:09:11.599074",
     "status": "completed"
    },
    "tags": []
   },
   "outputs": [
    {
     "name": "stdout",
     "output_type": "stream",
     "text": [
      "The missing values in the test data are as shown below:\n",
      "+*++*++*++*++*++*++*++*++*++*++*++*++*++*++*++*++*++*++*++*+\n"
     ]
    },
    {
     "data": {
      "text/plain": [
       "country        0\n",
       "description    0\n",
       "designation    0\n",
       "points         0\n",
       "price          0\n",
       "province       0\n",
       "region_1       0\n",
       "variety        0\n",
       "winery         0\n",
       "dtype: uint64"
      ]
     },
     "execution_count": 17,
     "metadata": {},
     "output_type": "execute_result"
    }
   ],
   "source": [
    "for i in train_gdf.columns:\n",
    "    if train_gdf[i].isnull().sum() >= 1:\n",
    "        train_gdf[i].fillna('missing',inplace = True)\n",
    "\n",
    "print('The missing values in the test data are as shown below:')\n",
    "print('+*+'*20)\n",
    "train_gdf.isnull().sum().sort_values(ascending=False) "
   ]
  },
  {
   "cell_type": "code",
   "execution_count": 18,
   "id": "867bd8c9",
   "metadata": {
    "execution": {
     "iopub.execute_input": "2022-03-16T14:09:11.802681Z",
     "iopub.status.busy": "2022-03-16T14:09:11.800208Z",
     "iopub.status.idle": "2022-03-16T14:09:11.822197Z",
     "shell.execute_reply": "2022-03-16T14:09:11.822740Z",
     "shell.execute_reply.started": "2022-03-16T11:55:08.989374Z"
    },
    "papermill": {
     "duration": 0.081398,
     "end_time": "2022-03-16T14:09:11.822912",
     "exception": false,
     "start_time": "2022-03-16T14:09:11.741514",
     "status": "completed"
    },
    "tags": []
   },
   "outputs": [
    {
     "name": "stdout",
     "output_type": "stream",
     "text": [
      "The missing values in the test data are as shown below:\n",
      "+*++*++*++*++*++*++*++*++*++*++*++*++*++*++*++*++*++*++*++*+\n"
     ]
    },
    {
     "data": {
      "text/plain": [
       "country        0\n",
       "description    0\n",
       "designation    0\n",
       "points         0\n",
       "province       0\n",
       "region_1       0\n",
       "variety        0\n",
       "winery         0\n",
       "dtype: uint64"
      ]
     },
     "execution_count": 18,
     "metadata": {},
     "output_type": "execute_result"
    }
   ],
   "source": [
    "for i in test_gdf.columns:\n",
    "    if test_gdf[i].isnull().sum() >= 1:\n",
    "        test_gdf[i].fillna('missing',inplace = True)\n",
    "\n",
    "print('The missing values in the test data are as shown below:')\n",
    "print('+*+'*20)\n",
    "test_gdf.isnull().sum().sort_values(ascending=False) "
   ]
  },
  {
   "cell_type": "code",
   "execution_count": 19,
   "id": "58cbdeb5",
   "metadata": {
    "execution": {
     "iopub.execute_input": "2022-03-16T14:09:11.941188Z",
     "iopub.status.busy": "2022-03-16T14:09:11.940616Z",
     "iopub.status.idle": "2022-03-16T14:09:11.971535Z",
     "shell.execute_reply": "2022-03-16T14:09:11.972147Z",
     "shell.execute_reply.started": "2022-03-16T12:01:02.076397Z"
    },
    "papermill": {
     "duration": 0.091519,
     "end_time": "2022-03-16T14:09:11.972319",
     "exception": false,
     "start_time": "2022-03-16T14:09:11.880800",
     "status": "completed"
    },
    "tags": []
   },
   "outputs": [
    {
     "name": "stderr",
     "output_type": "stream",
     "text": [
      "/opt/conda/lib/python3.7/site-packages/nltk/twitter/__init__.py:20: UserWarning: The twython library has not been installed. Some functionality from the twitter package will not be available.\n",
      "  warnings.warn(\"The twython library has not been installed. \"\n"
     ]
    }
   ],
   "source": [
    "from nltk.sentiment.vader import SentimentIntensityAnalyzer \n",
    "sia=SentimentIntensityAnalyzer()"
   ]
  },
  {
   "cell_type": "code",
   "execution_count": 20,
   "id": "f381f700",
   "metadata": {
    "execution": {
     "iopub.execute_input": "2022-03-16T14:09:12.098310Z",
     "iopub.status.busy": "2022-03-16T14:09:12.097391Z",
     "iopub.status.idle": "2022-03-16T14:09:19.780099Z",
     "shell.execute_reply": "2022-03-16T14:09:19.780515Z",
     "shell.execute_reply.started": "2022-03-16T11:56:57.509867Z"
    },
    "papermill": {
     "duration": 7.74812,
     "end_time": "2022-03-16T14:09:19.780656",
     "exception": false,
     "start_time": "2022-03-16T14:09:12.032536",
     "status": "completed"
    },
    "tags": []
   },
   "outputs": [
    {
     "data": {
      "text/html": [
       "<div>\n",
       "<style scoped>\n",
       "    .dataframe tbody tr th:only-of-type {\n",
       "        vertical-align: middle;\n",
       "    }\n",
       "\n",
       "    .dataframe tbody tr th {\n",
       "        vertical-align: top;\n",
       "    }\n",
       "\n",
       "    .dataframe thead th {\n",
       "        text-align: right;\n",
       "    }\n",
       "</style>\n",
       "<table border=\"1\" class=\"dataframe\">\n",
       "  <thead>\n",
       "    <tr style=\"text-align: right;\">\n",
       "      <th></th>\n",
       "      <th>country</th>\n",
       "      <th>description</th>\n",
       "      <th>designation</th>\n",
       "      <th>points</th>\n",
       "      <th>price</th>\n",
       "      <th>province</th>\n",
       "      <th>region_1</th>\n",
       "      <th>variety</th>\n",
       "      <th>winery</th>\n",
       "    </tr>\n",
       "    <tr>\n",
       "      <th>id</th>\n",
       "      <th></th>\n",
       "      <th></th>\n",
       "      <th></th>\n",
       "      <th></th>\n",
       "      <th></th>\n",
       "      <th></th>\n",
       "      <th></th>\n",
       "      <th></th>\n",
       "      <th></th>\n",
       "    </tr>\n",
       "  </thead>\n",
       "  <tbody>\n",
       "    <tr>\n",
       "      <th>32027</th>\n",
       "      <td>Portugal</td>\n",
       "      <td>This is a fine rich balanced wine It has ripe ...</td>\n",
       "      <td>Vila Santa Reserva</td>\n",
       "      <td>88</td>\n",
       "      <td>20.0</td>\n",
       "      <td>Alentejano</td>\n",
       "      <td>missing</td>\n",
       "      <td>PORTUGUESE RED</td>\n",
       "      <td>J. Portugal Ramos</td>\n",
       "    </tr>\n",
       "    <tr>\n",
       "      <th>71079</th>\n",
       "      <td>France</td>\n",
       "      <td>A solid chunky wine with a structure that is f...</td>\n",
       "      <td>missing</td>\n",
       "      <td>88</td>\n",
       "      <td>28.0</td>\n",
       "      <td>Bordeaux</td>\n",
       "      <td>Lalande de Pomerol</td>\n",
       "      <td>BORDEAUX-STYLE RED BLEND</td>\n",
       "      <td>Château Tour Grand Colombier</td>\n",
       "    </tr>\n",
       "  </tbody>\n",
       "</table>\n",
       "</div>"
      ],
      "text/plain": [
       "        country                                        description  \\\n",
       "id                                                                   \n",
       "32027  Portugal  This is a fine rich balanced wine It has ripe ...   \n",
       "71079    France  A solid chunky wine with a structure that is f...   \n",
       "\n",
       "              designation  points  price    province            region_1  \\\n",
       "id                                                                         \n",
       "32027  Vila Santa Reserva      88   20.0  Alentejano             missing   \n",
       "71079             missing      88   28.0    Bordeaux  Lalande de Pomerol   \n",
       "\n",
       "                        variety                        winery  \n",
       "id                                                             \n",
       "32027            PORTUGUESE RED             J. Portugal Ramos  \n",
       "71079  BORDEAUX-STYLE RED BLEND  Château Tour Grand Colombier  "
      ]
     },
     "execution_count": 20,
     "metadata": {},
     "output_type": "execute_result"
    }
   ],
   "source": [
    "def punc_clean(texL): #Removing punctuations\n",
    "    import string as st\n",
    "    newl=[]\n",
    "    for text in texL.to_pandas():\n",
    "        a=[w for w in text if w not in st.punctuation]\n",
    "        newl.append(''.join(a))\n",
    "    return newl\n",
    "train_gdf['description']=punc_clean(train_gdf['description'])\n",
    "test_gdf['description']=punc_clean(test_gdf['description'])\n",
    "train_gdf.head(2)"
   ]
  },
  {
   "cell_type": "code",
   "execution_count": 21,
   "id": "91a43f58",
   "metadata": {
    "execution": {
     "iopub.execute_input": "2022-03-16T14:09:19.902267Z",
     "iopub.status.busy": "2022-03-16T14:09:19.901745Z",
     "iopub.status.idle": "2022-03-16T14:11:55.438613Z",
     "shell.execute_reply": "2022-03-16T14:11:55.439215Z",
     "shell.execute_reply.started": "2022-03-16T11:57:04.911037Z"
    },
    "papermill": {
     "duration": 155.601225,
     "end_time": "2022-03-16T14:11:55.439379",
     "exception": false,
     "start_time": "2022-03-16T14:09:19.838154",
     "status": "completed"
    },
    "tags": []
   },
   "outputs": [
    {
     "data": {
      "text/html": [
       "<div>\n",
       "<style scoped>\n",
       "    .dataframe tbody tr th:only-of-type {\n",
       "        vertical-align: middle;\n",
       "    }\n",
       "\n",
       "    .dataframe tbody tr th {\n",
       "        vertical-align: top;\n",
       "    }\n",
       "\n",
       "    .dataframe thead th {\n",
       "        text-align: right;\n",
       "    }\n",
       "</style>\n",
       "<table border=\"1\" class=\"dataframe\">\n",
       "  <thead>\n",
       "    <tr style=\"text-align: right;\">\n",
       "      <th></th>\n",
       "      <th>country</th>\n",
       "      <th>description</th>\n",
       "      <th>designation</th>\n",
       "      <th>points</th>\n",
       "      <th>price</th>\n",
       "      <th>province</th>\n",
       "      <th>region_1</th>\n",
       "      <th>variety</th>\n",
       "      <th>winery</th>\n",
       "    </tr>\n",
       "    <tr>\n",
       "      <th>id</th>\n",
       "      <th></th>\n",
       "      <th></th>\n",
       "      <th></th>\n",
       "      <th></th>\n",
       "      <th></th>\n",
       "      <th></th>\n",
       "      <th></th>\n",
       "      <th></th>\n",
       "      <th></th>\n",
       "    </tr>\n",
       "  </thead>\n",
       "  <tbody>\n",
       "    <tr>\n",
       "      <th>32027</th>\n",
       "      <td>Portugal</td>\n",
       "      <td>This fine rich balanced wine It ripe fruits su...</td>\n",
       "      <td>Vila Santa Reserva</td>\n",
       "      <td>88</td>\n",
       "      <td>20.0</td>\n",
       "      <td>Alentejano</td>\n",
       "      <td>missing</td>\n",
       "      <td>PORTUGUESE RED</td>\n",
       "      <td>J. Portugal Ramos</td>\n",
       "    </tr>\n",
       "    <tr>\n",
       "      <th>71079</th>\n",
       "      <td>France</td>\n",
       "      <td>A solid chunky wine structure full corners edg...</td>\n",
       "      <td>missing</td>\n",
       "      <td>88</td>\n",
       "      <td>28.0</td>\n",
       "      <td>Bordeaux</td>\n",
       "      <td>Lalande de Pomerol</td>\n",
       "      <td>BORDEAUX-STYLE RED BLEND</td>\n",
       "      <td>Château Tour Grand Colombier</td>\n",
       "    </tr>\n",
       "  </tbody>\n",
       "</table>\n",
       "</div>"
      ],
      "text/plain": [
       "        country                                        description  \\\n",
       "id                                                                   \n",
       "32027  Portugal  This fine rich balanced wine It ripe fruits su...   \n",
       "71079    France  A solid chunky wine structure full corners edg...   \n",
       "\n",
       "              designation  points  price    province            region_1  \\\n",
       "id                                                                         \n",
       "32027  Vila Santa Reserva      88   20.0  Alentejano             missing   \n",
       "71079             missing      88   28.0    Bordeaux  Lalande de Pomerol   \n",
       "\n",
       "                        variety                        winery  \n",
       "id                                                             \n",
       "32027            PORTUGUESE RED             J. Portugal Ramos  \n",
       "71079  BORDEAUX-STYLE RED BLEND  Château Tour Grand Colombier  "
      ]
     },
     "execution_count": 21,
     "metadata": {},
     "output_type": "execute_result"
    }
   ],
   "source": [
    "def remove_stopword(textL):\n",
    "    newL=[]\n",
    "    for text in textL.to_pandas():\n",
    "        stopword=nltk.corpus.stopwords.words('english')\n",
    "        stopword.remove('not')\n",
    "        a=[w for w in nltk.word_tokenize(text) if w not in stopword]\n",
    "        newL.append(' '.join(a))\n",
    "    return newL\n",
    "train_gdf['description']=remove_stopword(train_gdf['description'])\n",
    "test_gdf['description']=remove_stopword(test_gdf['description'])\n",
    "train_gdf.head(2)"
   ]
  },
  {
   "cell_type": "code",
   "execution_count": 22,
   "id": "09523083",
   "metadata": {
    "execution": {
     "iopub.execute_input": "2022-03-16T14:11:55.562440Z",
     "iopub.status.busy": "2022-03-16T14:11:55.561460Z",
     "iopub.status.idle": "2022-03-16T14:13:02.152249Z",
     "shell.execute_reply": "2022-03-16T14:13:02.151761Z",
     "shell.execute_reply.started": "2022-03-16T12:01:05.630781Z"
    },
    "papermill": {
     "duration": 66.654987,
     "end_time": "2022-03-16T14:13:02.152387",
     "exception": false,
     "start_time": "2022-03-16T14:11:55.497400",
     "status": "completed"
    },
    "tags": []
   },
   "outputs": [],
   "source": [
    "newL=[]\n",
    "\n",
    "for j in train_gdf['description'].to_pandas():\n",
    "    cp=sia.polarity_scores(j)['compound']\n",
    "    \n",
    "    fin=1\n",
    "    if cp>=0.05:\n",
    "        fin=2\n",
    "    elif cp>-0.05:\n",
    "        fin=1\n",
    "    else:\n",
    "        fin=0\n",
    "    \n",
    "    newL.append(fin)\n",
    "train_gdf['description']=newL"
   ]
  },
  {
   "cell_type": "code",
   "execution_count": 23,
   "id": "ed92caa0",
   "metadata": {
    "execution": {
     "iopub.execute_input": "2022-03-16T14:13:02.276882Z",
     "iopub.status.busy": "2022-03-16T14:13:02.275957Z",
     "iopub.status.idle": "2022-03-16T14:13:33.979335Z",
     "shell.execute_reply": "2022-03-16T14:13:33.978862Z",
     "shell.execute_reply.started": "2022-03-16T12:02:27.777804Z"
    },
    "papermill": {
     "duration": 31.767606,
     "end_time": "2022-03-16T14:13:33.979487",
     "exception": false,
     "start_time": "2022-03-16T14:13:02.211881",
     "status": "completed"
    },
    "tags": []
   },
   "outputs": [],
   "source": [
    "newL=[]\n",
    "for j in test_gdf['description'].to_pandas():\n",
    "    cp=sia.polarity_scores(j)['compound']\n",
    "    \n",
    "    fin=1\n",
    "    if cp>=0.05:\n",
    "        fin=2\n",
    "    elif cp>-0.05:\n",
    "        fin=1\n",
    "    else:\n",
    "        fin=0\n",
    "    \n",
    "    newL.append(fin)\n",
    "test_gdf['description']=newL"
   ]
  },
  {
   "cell_type": "code",
   "execution_count": 24,
   "id": "019040ea",
   "metadata": {
    "execution": {
     "iopub.execute_input": "2022-03-16T14:13:34.102785Z",
     "iopub.status.busy": "2022-03-16T14:13:34.102024Z",
     "iopub.status.idle": "2022-03-16T14:13:34.104374Z",
     "shell.execute_reply": "2022-03-16T14:13:34.103906Z",
     "shell.execute_reply.started": "2022-03-16T12:03:28.851759Z"
    },
    "papermill": {
     "duration": 0.065123,
     "end_time": "2022-03-16T14:13:34.104507",
     "exception": false,
     "start_time": "2022-03-16T14:13:34.039384",
     "status": "completed"
    },
    "tags": []
   },
   "outputs": [],
   "source": [
    "train_gdf['points'] = train_gdf['points'].astype(int)\n",
    "test_gdf['points'] = test_gdf['points'].astype(int)"
   ]
  },
  {
   "cell_type": "code",
   "execution_count": 25,
   "id": "254423a4",
   "metadata": {
    "execution": {
     "iopub.execute_input": "2022-03-16T14:13:34.230073Z",
     "iopub.status.busy": "2022-03-16T14:13:34.229271Z",
     "iopub.status.idle": "2022-03-16T14:13:34.250192Z",
     "shell.execute_reply": "2022-03-16T14:13:34.250626Z",
     "shell.execute_reply.started": "2022-03-16T12:03:30.484667Z"
    },
    "papermill": {
     "duration": 0.087021,
     "end_time": "2022-03-16T14:13:34.250759",
     "exception": false,
     "start_time": "2022-03-16T14:13:34.163738",
     "status": "completed"
    },
    "tags": []
   },
   "outputs": [
    {
     "data": {
      "text/html": [
       "<div>\n",
       "<style scoped>\n",
       "    .dataframe tbody tr th:only-of-type {\n",
       "        vertical-align: middle;\n",
       "    }\n",
       "\n",
       "    .dataframe tbody tr th {\n",
       "        vertical-align: top;\n",
       "    }\n",
       "\n",
       "    .dataframe thead th {\n",
       "        text-align: right;\n",
       "    }\n",
       "</style>\n",
       "<table border=\"1\" class=\"dataframe\">\n",
       "  <thead>\n",
       "    <tr style=\"text-align: right;\">\n",
       "      <th></th>\n",
       "      <th>country</th>\n",
       "      <th>description</th>\n",
       "      <th>designation</th>\n",
       "      <th>points</th>\n",
       "      <th>province</th>\n",
       "      <th>region_1</th>\n",
       "      <th>variety</th>\n",
       "      <th>winery</th>\n",
       "    </tr>\n",
       "    <tr>\n",
       "      <th>id</th>\n",
       "      <th></th>\n",
       "      <th></th>\n",
       "      <th></th>\n",
       "      <th></th>\n",
       "      <th></th>\n",
       "      <th></th>\n",
       "      <th></th>\n",
       "      <th></th>\n",
       "    </tr>\n",
       "  </thead>\n",
       "  <tbody>\n",
       "    <tr>\n",
       "      <th>0</th>\n",
       "      <td>US</td>\n",
       "      <td>2</td>\n",
       "      <td>3D</td>\n",
       "      <td>95</td>\n",
       "      <td>California</td>\n",
       "      <td>St. Helena</td>\n",
       "      <td>CABERNET SAUVIGNON</td>\n",
       "      <td>Salvestrin</td>\n",
       "    </tr>\n",
       "    <tr>\n",
       "      <th>1</th>\n",
       "      <td>France</td>\n",
       "      <td>2</td>\n",
       "      <td>Heluicum</td>\n",
       "      <td>90</td>\n",
       "      <td>Rhône Valley</td>\n",
       "      <td>Collines Rhôdaniennes</td>\n",
       "      <td>SYRAH</td>\n",
       "      <td>Les Vins de Vienne</td>\n",
       "    </tr>\n",
       "    <tr>\n",
       "      <th>2</th>\n",
       "      <td>US</td>\n",
       "      <td>2</td>\n",
       "      <td>Estate</td>\n",
       "      <td>88</td>\n",
       "      <td>California</td>\n",
       "      <td>Santa Ynez Valley</td>\n",
       "      <td>CABERNET FRANC</td>\n",
       "      <td>Brave &amp; Maiden</td>\n",
       "    </tr>\n",
       "    <tr>\n",
       "      <th>3</th>\n",
       "      <td>US</td>\n",
       "      <td>1</td>\n",
       "      <td>missing</td>\n",
       "      <td>89</td>\n",
       "      <td>California</td>\n",
       "      <td>Sonoma Coast</td>\n",
       "      <td>CHARDONNAY</td>\n",
       "      <td>Les Voleurs</td>\n",
       "    </tr>\n",
       "    <tr>\n",
       "      <th>4</th>\n",
       "      <td>US</td>\n",
       "      <td>2</td>\n",
       "      <td>missing</td>\n",
       "      <td>88</td>\n",
       "      <td>Washington</td>\n",
       "      <td>Columbia Valley (WA)</td>\n",
       "      <td>PINOT GRIS</td>\n",
       "      <td>Chateau Ste. Michelle</td>\n",
       "    </tr>\n",
       "  </tbody>\n",
       "</table>\n",
       "</div>"
      ],
      "text/plain": [
       "   country  description designation  points      province  \\\n",
       "id                                                          \n",
       "0       US            2          3D      95    California   \n",
       "1   France            2    Heluicum      90  Rhône Valley   \n",
       "2       US            2      Estate      88    California   \n",
       "3       US            1     missing      89    California   \n",
       "4       US            2     missing      88    Washington   \n",
       "\n",
       "                 region_1             variety                 winery  \n",
       "id                                                                    \n",
       "0              St. Helena  CABERNET SAUVIGNON             Salvestrin  \n",
       "1   Collines Rhôdaniennes               SYRAH     Les Vins de Vienne  \n",
       "2       Santa Ynez Valley      CABERNET FRANC         Brave & Maiden  \n",
       "3            Sonoma Coast          CHARDONNAY            Les Voleurs  \n",
       "4    Columbia Valley (WA)          PINOT GRIS  Chateau Ste. Michelle  "
      ]
     },
     "execution_count": 25,
     "metadata": {},
     "output_type": "execute_result"
    }
   ],
   "source": [
    "test_gdf.head()"
   ]
  },
  {
   "cell_type": "code",
   "execution_count": 26,
   "id": "6ebd5cde",
   "metadata": {
    "execution": {
     "iopub.execute_input": "2022-03-16T14:13:34.377107Z",
     "iopub.status.busy": "2022-03-16T14:13:34.376304Z",
     "iopub.status.idle": "2022-03-16T14:13:34.398326Z",
     "shell.execute_reply": "2022-03-16T14:13:34.397896Z",
     "shell.execute_reply.started": "2022-03-16T12:03:30.888203Z"
    },
    "papermill": {
     "duration": 0.087779,
     "end_time": "2022-03-16T14:13:34.398458",
     "exception": false,
     "start_time": "2022-03-16T14:13:34.310679",
     "status": "completed"
    },
    "tags": []
   },
   "outputs": [
    {
     "data": {
      "text/html": [
       "<div>\n",
       "<style scoped>\n",
       "    .dataframe tbody tr th:only-of-type {\n",
       "        vertical-align: middle;\n",
       "    }\n",
       "\n",
       "    .dataframe tbody tr th {\n",
       "        vertical-align: top;\n",
       "    }\n",
       "\n",
       "    .dataframe thead th {\n",
       "        text-align: right;\n",
       "    }\n",
       "</style>\n",
       "<table border=\"1\" class=\"dataframe\">\n",
       "  <thead>\n",
       "    <tr style=\"text-align: right;\">\n",
       "      <th></th>\n",
       "      <th>country</th>\n",
       "      <th>description</th>\n",
       "      <th>designation</th>\n",
       "      <th>points</th>\n",
       "      <th>price</th>\n",
       "      <th>province</th>\n",
       "      <th>region_1</th>\n",
       "      <th>variety</th>\n",
       "      <th>winery</th>\n",
       "    </tr>\n",
       "    <tr>\n",
       "      <th>id</th>\n",
       "      <th></th>\n",
       "      <th></th>\n",
       "      <th></th>\n",
       "      <th></th>\n",
       "      <th></th>\n",
       "      <th></th>\n",
       "      <th></th>\n",
       "      <th></th>\n",
       "      <th></th>\n",
       "    </tr>\n",
       "  </thead>\n",
       "  <tbody>\n",
       "    <tr>\n",
       "      <th>32027</th>\n",
       "      <td>Portugal</td>\n",
       "      <td>2</td>\n",
       "      <td>Vila Santa Reserva</td>\n",
       "      <td>88</td>\n",
       "      <td>20.0</td>\n",
       "      <td>Alentejano</td>\n",
       "      <td>missing</td>\n",
       "      <td>PORTUGUESE RED</td>\n",
       "      <td>J. Portugal Ramos</td>\n",
       "    </tr>\n",
       "    <tr>\n",
       "      <th>71079</th>\n",
       "      <td>France</td>\n",
       "      <td>2</td>\n",
       "      <td>missing</td>\n",
       "      <td>88</td>\n",
       "      <td>28.0</td>\n",
       "      <td>Bordeaux</td>\n",
       "      <td>Lalande de Pomerol</td>\n",
       "      <td>BORDEAUX-STYLE RED BLEND</td>\n",
       "      <td>Château Tour Grand Colombier</td>\n",
       "    </tr>\n",
       "    <tr>\n",
       "      <th>32440</th>\n",
       "      <td>France</td>\n",
       "      <td>2</td>\n",
       "      <td>missing</td>\n",
       "      <td>94</td>\n",
       "      <td>130.0</td>\n",
       "      <td>Bordeaux</td>\n",
       "      <td>Saint-Émilion</td>\n",
       "      <td>BORDEAUX-STYLE RED BLEND</td>\n",
       "      <td>Château Figeac</td>\n",
       "    </tr>\n",
       "    <tr>\n",
       "      <th>124405</th>\n",
       "      <td>US</td>\n",
       "      <td>2</td>\n",
       "      <td>Thompson Vineyard</td>\n",
       "      <td>89</td>\n",
       "      <td>34.0</td>\n",
       "      <td>California</td>\n",
       "      <td>Santa Barbara County</td>\n",
       "      <td>PETITE SIRAH</td>\n",
       "      <td>Jaffurs</td>\n",
       "    </tr>\n",
       "    <tr>\n",
       "      <th>33649</th>\n",
       "      <td>US</td>\n",
       "      <td>2</td>\n",
       "      <td>McKinley Springs Vineyard</td>\n",
       "      <td>89</td>\n",
       "      <td>24.0</td>\n",
       "      <td>Washington</td>\n",
       "      <td>Horse Heaven Hills</td>\n",
       "      <td>ROSé</td>\n",
       "      <td>Syncline</td>\n",
       "    </tr>\n",
       "  </tbody>\n",
       "</table>\n",
       "</div>"
      ],
      "text/plain": [
       "         country  description                designation  points  price  \\\n",
       "id                                                                        \n",
       "32027   Portugal            2         Vila Santa Reserva      88   20.0   \n",
       "71079     France            2                    missing      88   28.0   \n",
       "32440     France            2                    missing      94  130.0   \n",
       "124405        US            2          Thompson Vineyard      89   34.0   \n",
       "33649         US            2  McKinley Springs Vineyard      89   24.0   \n",
       "\n",
       "          province              region_1                   variety  \\\n",
       "id                                                                   \n",
       "32027   Alentejano               missing            PORTUGUESE RED   \n",
       "71079     Bordeaux    Lalande de Pomerol  BORDEAUX-STYLE RED BLEND   \n",
       "32440     Bordeaux         Saint-Émilion  BORDEAUX-STYLE RED BLEND   \n",
       "124405  California  Santa Barbara County              PETITE SIRAH   \n",
       "33649   Washington    Horse Heaven Hills                      ROSé   \n",
       "\n",
       "                              winery  \n",
       "id                                    \n",
       "32027              J. Portugal Ramos  \n",
       "71079   Château Tour Grand Colombier  \n",
       "32440                 Château Figeac  \n",
       "124405                       Jaffurs  \n",
       "33649                       Syncline  "
      ]
     },
     "execution_count": 26,
     "metadata": {},
     "output_type": "execute_result"
    }
   ],
   "source": [
    "train_gdf.head()"
   ]
  },
  {
   "cell_type": "markdown",
   "id": "9b445e5a",
   "metadata": {
    "papermill": {
     "duration": 0.059171,
     "end_time": "2022-03-16T14:13:34.518700",
     "exception": false,
     "start_time": "2022-03-16T14:13:34.459529",
     "status": "completed"
    },
    "tags": []
   },
   "source": [
    "Encoding categorical"
   ]
  },
  {
   "cell_type": "code",
   "execution_count": 27,
   "id": "7d79d3da",
   "metadata": {
    "execution": {
     "iopub.execute_input": "2022-03-16T14:13:34.642808Z",
     "iopub.status.busy": "2022-03-16T14:13:34.642165Z",
     "iopub.status.idle": "2022-03-16T14:13:34.733334Z",
     "shell.execute_reply": "2022-03-16T14:13:34.733786Z",
     "shell.execute_reply.started": "2022-03-16T12:03:35.636767Z"
    },
    "papermill": {
     "duration": 0.155801,
     "end_time": "2022-03-16T14:13:34.733946",
     "exception": false,
     "start_time": "2022-03-16T14:13:34.578145",
     "status": "completed"
    },
    "tags": []
   },
   "outputs": [],
   "source": [
    "catfeat = ['country', 'designation', 'province','region_1', 'variety', 'winery']\n",
    "encoder_dict = {}\n",
    "for i in catfeat:\n",
    "    t = train_gdf.groupby([i])['price'].mean().sort_values(ascending=True).index\n",
    "    encoder_dict[i] = {k:i for i,k in enumerate(t.to_pandas(),0)}\n",
    "\n"
   ]
  },
  {
   "cell_type": "code",
   "execution_count": 28,
   "id": "542a1444",
   "metadata": {
    "execution": {
     "iopub.execute_input": "2022-03-16T14:13:34.860864Z",
     "iopub.status.busy": "2022-03-16T14:13:34.859965Z",
     "iopub.status.idle": "2022-03-16T14:13:35.362632Z",
     "shell.execute_reply": "2022-03-16T14:13:35.362140Z",
     "shell.execute_reply.started": "2022-03-16T12:03:39.875588Z"
    },
    "papermill": {
     "duration": 0.568765,
     "end_time": "2022-03-16T14:13:35.362769",
     "exception": false,
     "start_time": "2022-03-16T14:13:34.794004",
     "status": "completed"
    },
    "tags": []
   },
   "outputs": [],
   "source": [
    "for i in catfeat:\n",
    "    newl=[]\n",
    "    for j in train_gdf[i].to_pandas():\n",
    "        newl.append(encoder_dict[i][j])\n",
    "    train_gdf[i]=newl"
   ]
  },
  {
   "cell_type": "code",
   "execution_count": 29,
   "id": "0de60fdf",
   "metadata": {
    "execution": {
     "iopub.execute_input": "2022-03-16T14:13:35.498225Z",
     "iopub.status.busy": "2022-03-16T14:13:35.497404Z",
     "iopub.status.idle": "2022-03-16T14:13:35.553689Z",
     "shell.execute_reply": "2022-03-16T14:13:35.553140Z",
     "shell.execute_reply.started": "2022-03-16T12:03:40.511639Z"
    },
    "papermill": {
     "duration": 0.130655,
     "end_time": "2022-03-16T14:13:35.553830",
     "exception": false,
     "start_time": "2022-03-16T14:13:35.423175",
     "status": "completed"
    },
    "tags": []
   },
   "outputs": [
    {
     "data": {
      "text/html": [
       "<div>\n",
       "<style scoped>\n",
       "    .dataframe tbody tr th:only-of-type {\n",
       "        vertical-align: middle;\n",
       "    }\n",
       "\n",
       "    .dataframe tbody tr th {\n",
       "        vertical-align: top;\n",
       "    }\n",
       "\n",
       "    .dataframe thead th {\n",
       "        text-align: right;\n",
       "    }\n",
       "</style>\n",
       "<table border=\"1\" class=\"dataframe\">\n",
       "  <thead>\n",
       "    <tr style=\"text-align: right;\">\n",
       "      <th></th>\n",
       "      <th>country</th>\n",
       "      <th>description</th>\n",
       "      <th>designation</th>\n",
       "      <th>points</th>\n",
       "      <th>price</th>\n",
       "      <th>province</th>\n",
       "      <th>region_1</th>\n",
       "      <th>variety</th>\n",
       "      <th>winery</th>\n",
       "    </tr>\n",
       "    <tr>\n",
       "      <th>id</th>\n",
       "      <th></th>\n",
       "      <th></th>\n",
       "      <th></th>\n",
       "      <th></th>\n",
       "      <th></th>\n",
       "      <th></th>\n",
       "      <th></th>\n",
       "      <th></th>\n",
       "      <th></th>\n",
       "    </tr>\n",
       "  </thead>\n",
       "  <tbody>\n",
       "    <tr>\n",
       "      <th>32027</th>\n",
       "      <td>28</td>\n",
       "      <td>2</td>\n",
       "      <td>11808</td>\n",
       "      <td>88</td>\n",
       "      <td>20.0</td>\n",
       "      <td>226</td>\n",
       "      <td>713</td>\n",
       "      <td>403</td>\n",
       "      <td>5690</td>\n",
       "    </tr>\n",
       "    <tr>\n",
       "      <th>71079</th>\n",
       "      <td>42</td>\n",
       "      <td>2</td>\n",
       "      <td>19115</td>\n",
       "      <td>88</td>\n",
       "      <td>28.0</td>\n",
       "      <td>428</td>\n",
       "      <td>901</td>\n",
       "      <td>663</td>\n",
       "      <td>10157</td>\n",
       "    </tr>\n",
       "    <tr>\n",
       "      <th>32440</th>\n",
       "      <td>42</td>\n",
       "      <td>2</td>\n",
       "      <td>19115</td>\n",
       "      <td>94</td>\n",
       "      <td>130.0</td>\n",
       "      <td>428</td>\n",
       "      <td>1190</td>\n",
       "      <td>663</td>\n",
       "      <td>16823</td>\n",
       "    </tr>\n",
       "    <tr>\n",
       "      <th>124405</th>\n",
       "      <td>39</td>\n",
       "      <td>2</td>\n",
       "      <td>24323</td>\n",
       "      <td>89</td>\n",
       "      <td>34.0</td>\n",
       "      <td>411</td>\n",
       "      <td>828</td>\n",
       "      <td>519</td>\n",
       "      <td>12963</td>\n",
       "    </tr>\n",
       "    <tr>\n",
       "      <th>33649</th>\n",
       "      <td>39</td>\n",
       "      <td>2</td>\n",
       "      <td>19138</td>\n",
       "      <td>89</td>\n",
       "      <td>24.0</td>\n",
       "      <td>364</td>\n",
       "      <td>878</td>\n",
       "      <td>214</td>\n",
       "      <td>10277</td>\n",
       "    </tr>\n",
       "    <tr>\n",
       "      <th>...</th>\n",
       "      <td>...</td>\n",
       "      <td>...</td>\n",
       "      <td>...</td>\n",
       "      <td>...</td>\n",
       "      <td>...</td>\n",
       "      <td>...</td>\n",
       "      <td>...</td>\n",
       "      <td>...</td>\n",
       "      <td>...</td>\n",
       "    </tr>\n",
       "    <tr>\n",
       "      <th>51364</th>\n",
       "      <td>39</td>\n",
       "      <td>2</td>\n",
       "      <td>31770</td>\n",
       "      <td>93</td>\n",
       "      <td>55.0</td>\n",
       "      <td>411</td>\n",
       "      <td>1016</td>\n",
       "      <td>551</td>\n",
       "      <td>15263</td>\n",
       "    </tr>\n",
       "    <tr>\n",
       "      <th>87223</th>\n",
       "      <td>28</td>\n",
       "      <td>2</td>\n",
       "      <td>4790</td>\n",
       "      <td>85</td>\n",
       "      <td>14.0</td>\n",
       "      <td>226</td>\n",
       "      <td>713</td>\n",
       "      <td>125</td>\n",
       "      <td>8502</td>\n",
       "    </tr>\n",
       "    <tr>\n",
       "      <th>142217</th>\n",
       "      <td>32</td>\n",
       "      <td>2</td>\n",
       "      <td>2256</td>\n",
       "      <td>85</td>\n",
       "      <td>10.0</td>\n",
       "      <td>329</td>\n",
       "      <td>322</td>\n",
       "      <td>487</td>\n",
       "      <td>1960</td>\n",
       "    </tr>\n",
       "    <tr>\n",
       "      <th>64741</th>\n",
       "      <td>39</td>\n",
       "      <td>2</td>\n",
       "      <td>22287</td>\n",
       "      <td>90</td>\n",
       "      <td>65.0</td>\n",
       "      <td>411</td>\n",
       "      <td>1016</td>\n",
       "      <td>652</td>\n",
       "      <td>16267</td>\n",
       "    </tr>\n",
       "    <tr>\n",
       "      <th>91621</th>\n",
       "      <td>39</td>\n",
       "      <td>2</td>\n",
       "      <td>29920</td>\n",
       "      <td>91</td>\n",
       "      <td>50.0</td>\n",
       "      <td>411</td>\n",
       "      <td>1098</td>\n",
       "      <td>487</td>\n",
       "      <td>14229</td>\n",
       "    </tr>\n",
       "  </tbody>\n",
       "</table>\n",
       "<p>175000 rows × 9 columns</p>\n",
       "</div>"
      ],
      "text/plain": [
       "        country  description  designation  points  price  province  region_1  \\\n",
       "id                                                                             \n",
       "32027        28            2        11808      88   20.0       226       713   \n",
       "71079        42            2        19115      88   28.0       428       901   \n",
       "32440        42            2        19115      94  130.0       428      1190   \n",
       "124405       39            2        24323      89   34.0       411       828   \n",
       "33649        39            2        19138      89   24.0       364       878   \n",
       "...         ...          ...          ...     ...    ...       ...       ...   \n",
       "51364        39            2        31770      93   55.0       411      1016   \n",
       "87223        28            2         4790      85   14.0       226       713   \n",
       "142217       32            2         2256      85   10.0       329       322   \n",
       "64741        39            2        22287      90   65.0       411      1016   \n",
       "91621        39            2        29920      91   50.0       411      1098   \n",
       "\n",
       "        variety  winery  \n",
       "id                       \n",
       "32027       403    5690  \n",
       "71079       663   10157  \n",
       "32440       663   16823  \n",
       "124405      519   12963  \n",
       "33649       214   10277  \n",
       "...         ...     ...  \n",
       "51364       551   15263  \n",
       "87223       125    8502  \n",
       "142217      487    1960  \n",
       "64741       652   16267  \n",
       "91621       487   14229  \n",
       "\n",
       "[175000 rows x 9 columns]"
      ]
     },
     "execution_count": 29,
     "metadata": {},
     "output_type": "execute_result"
    }
   ],
   "source": [
    "train_gdf"
   ]
  },
  {
   "cell_type": "code",
   "execution_count": 30,
   "id": "6e538d36",
   "metadata": {
    "execution": {
     "iopub.execute_input": "2022-03-16T14:13:35.679657Z",
     "iopub.status.busy": "2022-03-16T14:13:35.678806Z",
     "iopub.status.idle": "2022-03-16T14:13:36.028847Z",
     "shell.execute_reply": "2022-03-16T14:13:36.028255Z",
     "shell.execute_reply.started": "2022-03-16T12:03:46.683849Z"
    },
    "papermill": {
     "duration": 0.415112,
     "end_time": "2022-03-16T14:13:36.028980",
     "exception": false,
     "start_time": "2022-03-16T14:13:35.613868",
     "status": "completed"
    },
    "tags": []
   },
   "outputs": [],
   "source": [
    "for i in catfeat:\n",
    "    newl=[]\n",
    "    for j in test_gdf[i].to_pandas():\n",
    "        if j not in encoder_dict[i].keys():\n",
    "            newl.append(None)\n",
    "        else:\n",
    "            newl.append(encoder_dict[i][j])\n",
    "    test_gdf[i]=newl"
   ]
  },
  {
   "cell_type": "code",
   "execution_count": 31,
   "id": "ededdd16",
   "metadata": {
    "execution": {
     "iopub.execute_input": "2022-03-16T14:13:36.155942Z",
     "iopub.status.busy": "2022-03-16T14:13:36.155094Z",
     "iopub.status.idle": "2022-03-16T14:13:37.740239Z",
     "shell.execute_reply": "2022-03-16T14:13:37.739548Z",
     "shell.execute_reply.started": "2022-03-16T12:04:10.661682Z"
    },
    "papermill": {
     "duration": 1.650518,
     "end_time": "2022-03-16T14:13:37.740418",
     "exception": false,
     "start_time": "2022-03-16T14:13:36.089900",
     "status": "completed"
    },
    "tags": []
   },
   "outputs": [],
   "source": [
    "test_gdf.fillna(test_gdf.median(),inplace=True)"
   ]
  },
  {
   "cell_type": "code",
   "execution_count": 32,
   "id": "7d7924c2",
   "metadata": {
    "execution": {
     "iopub.execute_input": "2022-03-16T14:13:37.904994Z",
     "iopub.status.busy": "2022-03-16T14:13:37.904173Z",
     "iopub.status.idle": "2022-03-16T14:13:37.954268Z",
     "shell.execute_reply": "2022-03-16T14:13:37.954850Z",
     "shell.execute_reply.started": "2022-03-16T12:04:14.683688Z"
    },
    "papermill": {
     "duration": 0.128592,
     "end_time": "2022-03-16T14:13:37.954993",
     "exception": false,
     "start_time": "2022-03-16T14:13:37.826401",
     "status": "completed"
    },
    "tags": []
   },
   "outputs": [
    {
     "data": {
      "text/html": [
       "<div>\n",
       "<style scoped>\n",
       "    .dataframe tbody tr th:only-of-type {\n",
       "        vertical-align: middle;\n",
       "    }\n",
       "\n",
       "    .dataframe tbody tr th {\n",
       "        vertical-align: top;\n",
       "    }\n",
       "\n",
       "    .dataframe thead th {\n",
       "        text-align: right;\n",
       "    }\n",
       "</style>\n",
       "<table border=\"1\" class=\"dataframe\">\n",
       "  <thead>\n",
       "    <tr style=\"text-align: right;\">\n",
       "      <th></th>\n",
       "      <th>country</th>\n",
       "      <th>description</th>\n",
       "      <th>designation</th>\n",
       "      <th>points</th>\n",
       "      <th>province</th>\n",
       "      <th>region_1</th>\n",
       "      <th>variety</th>\n",
       "      <th>winery</th>\n",
       "    </tr>\n",
       "    <tr>\n",
       "      <th>id</th>\n",
       "      <th></th>\n",
       "      <th></th>\n",
       "      <th></th>\n",
       "      <th></th>\n",
       "      <th></th>\n",
       "      <th></th>\n",
       "      <th></th>\n",
       "      <th></th>\n",
       "    </tr>\n",
       "  </thead>\n",
       "  <tbody>\n",
       "    <tr>\n",
       "      <th>0</th>\n",
       "      <td>39</td>\n",
       "      <td>2</td>\n",
       "      <td>34934</td>\n",
       "      <td>95</td>\n",
       "      <td>411</td>\n",
       "      <td>1187</td>\n",
       "      <td>643</td>\n",
       "      <td>15308</td>\n",
       "    </tr>\n",
       "    <tr>\n",
       "      <th>1</th>\n",
       "      <td>42</td>\n",
       "      <td>2</td>\n",
       "      <td>19115</td>\n",
       "      <td>90</td>\n",
       "      <td>433</td>\n",
       "      <td>176</td>\n",
       "      <td>600</td>\n",
       "      <td>14931</td>\n",
       "    </tr>\n",
       "    <tr>\n",
       "      <th>2</th>\n",
       "      <td>39</td>\n",
       "      <td>2</td>\n",
       "      <td>22284</td>\n",
       "      <td>88</td>\n",
       "      <td>411</td>\n",
       "      <td>908</td>\n",
       "      <td>559</td>\n",
       "      <td>16002</td>\n",
       "    </tr>\n",
       "    <tr>\n",
       "      <th>3</th>\n",
       "      <td>39</td>\n",
       "      <td>1</td>\n",
       "      <td>19115</td>\n",
       "      <td>89</td>\n",
       "      <td>411</td>\n",
       "      <td>1101</td>\n",
       "      <td>551</td>\n",
       "      <td>13099</td>\n",
       "    </tr>\n",
       "    <tr>\n",
       "      <th>4</th>\n",
       "      <td>39</td>\n",
       "      <td>2</td>\n",
       "      <td>19115</td>\n",
       "      <td>88</td>\n",
       "      <td>364</td>\n",
       "      <td>758</td>\n",
       "      <td>357</td>\n",
       "      <td>7677</td>\n",
       "    </tr>\n",
       "    <tr>\n",
       "      <th>...</th>\n",
       "      <td>...</td>\n",
       "      <td>...</td>\n",
       "      <td>...</td>\n",
       "      <td>...</td>\n",
       "      <td>...</td>\n",
       "      <td>...</td>\n",
       "      <td>...</td>\n",
       "      <td>...</td>\n",
       "    </tr>\n",
       "    <tr>\n",
       "      <th>83205</th>\n",
       "      <td>39</td>\n",
       "      <td>2</td>\n",
       "      <td>4572</td>\n",
       "      <td>81</td>\n",
       "      <td>411</td>\n",
       "      <td>1014</td>\n",
       "      <td>214</td>\n",
       "      <td>8076</td>\n",
       "    </tr>\n",
       "    <tr>\n",
       "      <th>83206</th>\n",
       "      <td>39</td>\n",
       "      <td>1</td>\n",
       "      <td>24745</td>\n",
       "      <td>87</td>\n",
       "      <td>411</td>\n",
       "      <td>854</td>\n",
       "      <td>643</td>\n",
       "      <td>8814</td>\n",
       "    </tr>\n",
       "    <tr>\n",
       "      <th>83207</th>\n",
       "      <td>40</td>\n",
       "      <td>2</td>\n",
       "      <td>27174</td>\n",
       "      <td>89</td>\n",
       "      <td>310</td>\n",
       "      <td>930</td>\n",
       "      <td>551</td>\n",
       "      <td>12868</td>\n",
       "    </tr>\n",
       "    <tr>\n",
       "      <th>83208</th>\n",
       "      <td>42</td>\n",
       "      <td>2</td>\n",
       "      <td>19115</td>\n",
       "      <td>84</td>\n",
       "      <td>459</td>\n",
       "      <td>533</td>\n",
       "      <td>652</td>\n",
       "      <td>16774</td>\n",
       "    </tr>\n",
       "    <tr>\n",
       "      <th>83209</th>\n",
       "      <td>40</td>\n",
       "      <td>2</td>\n",
       "      <td>19115</td>\n",
       "      <td>92</td>\n",
       "      <td>308</td>\n",
       "      <td>557</td>\n",
       "      <td>643</td>\n",
       "      <td>9846</td>\n",
       "    </tr>\n",
       "  </tbody>\n",
       "</table>\n",
       "<p>83210 rows × 8 columns</p>\n",
       "</div>"
      ],
      "text/plain": [
       "       country  description  designation  points  province  region_1  variety  \\\n",
       "id                                                                              \n",
       "0           39            2        34934      95       411      1187      643   \n",
       "1           42            2        19115      90       433       176      600   \n",
       "2           39            2        22284      88       411       908      559   \n",
       "3           39            1        19115      89       411      1101      551   \n",
       "4           39            2        19115      88       364       758      357   \n",
       "...        ...          ...          ...     ...       ...       ...      ...   \n",
       "83205       39            2         4572      81       411      1014      214   \n",
       "83206       39            1        24745      87       411       854      643   \n",
       "83207       40            2        27174      89       310       930      551   \n",
       "83208       42            2        19115      84       459       533      652   \n",
       "83209       40            2        19115      92       308       557      643   \n",
       "\n",
       "       winery  \n",
       "id             \n",
       "0       15308  \n",
       "1       14931  \n",
       "2       16002  \n",
       "3       13099  \n",
       "4        7677  \n",
       "...       ...  \n",
       "83205    8076  \n",
       "83206    8814  \n",
       "83207   12868  \n",
       "83208   16774  \n",
       "83209    9846  \n",
       "\n",
       "[83210 rows x 8 columns]"
      ]
     },
     "execution_count": 32,
     "metadata": {},
     "output_type": "execute_result"
    }
   ],
   "source": [
    "test_gdf"
   ]
  },
  {
   "cell_type": "code",
   "execution_count": null,
   "id": "e6b06efb",
   "metadata": {
    "papermill": {
     "duration": 0.062249,
     "end_time": "2022-03-16T14:13:38.079084",
     "exception": false,
     "start_time": "2022-03-16T14:13:38.016835",
     "status": "completed"
    },
    "tags": []
   },
   "outputs": [],
   "source": []
  },
  {
   "cell_type": "markdown",
   "id": "dbccc775",
   "metadata": {
    "papermill": {
     "duration": 0.060476,
     "end_time": "2022-03-16T14:13:38.201495",
     "exception": false,
     "start_time": "2022-03-16T14:13:38.141019",
     "status": "completed"
    },
    "tags": []
   },
   "source": [
    "## Model Training"
   ]
  },
  {
   "cell_type": "code",
   "execution_count": 33,
   "id": "3c958c12",
   "metadata": {
    "execution": {
     "iopub.execute_input": "2022-03-16T14:13:38.327828Z",
     "iopub.status.busy": "2022-03-16T14:13:38.326946Z",
     "iopub.status.idle": "2022-03-16T14:13:38.333371Z",
     "shell.execute_reply": "2022-03-16T14:13:38.332975Z",
     "shell.execute_reply.started": "2022-03-16T12:18:17.096902Z"
    },
    "papermill": {
     "duration": 0.070546,
     "end_time": "2022-03-16T14:13:38.333507",
     "exception": false,
     "start_time": "2022-03-16T14:13:38.262961",
     "status": "completed"
    },
    "tags": []
   },
   "outputs": [],
   "source": [
    "train_gdf = train_gdf.astype('float32')\n",
    "test_gdf=test_gdf.astype('float32')"
   ]
  },
  {
   "cell_type": "code",
   "execution_count": 34,
   "id": "840ef771",
   "metadata": {
    "execution": {
     "iopub.execute_input": "2022-03-16T14:13:38.460500Z",
     "iopub.status.busy": "2022-03-16T14:13:38.459701Z",
     "iopub.status.idle": "2022-03-16T14:13:38.464930Z",
     "shell.execute_reply": "2022-03-16T14:13:38.464456Z",
     "shell.execute_reply.started": "2022-03-16T12:18:19.827953Z"
    },
    "papermill": {
     "duration": 0.070319,
     "end_time": "2022-03-16T14:13:38.465039",
     "exception": false,
     "start_time": "2022-03-16T14:13:38.394720",
     "status": "completed"
    },
    "tags": []
   },
   "outputs": [],
   "source": [
    "Y = train_gdf['price']\n",
    "X = train_gdf.drop(['price'],axis=1)"
   ]
  },
  {
   "cell_type": "code",
   "execution_count": 35,
   "id": "cc685468",
   "metadata": {
    "execution": {
     "iopub.execute_input": "2022-03-16T14:13:38.590481Z",
     "iopub.status.busy": "2022-03-16T14:13:38.589806Z",
     "iopub.status.idle": "2022-03-16T14:13:48.806850Z",
     "shell.execute_reply": "2022-03-16T14:13:48.807280Z",
     "shell.execute_reply.started": "2022-03-16T12:18:35.385735Z"
    },
    "papermill": {
     "duration": 10.281904,
     "end_time": "2022-03-16T14:13:48.807468",
     "exception": false,
     "start_time": "2022-03-16T14:13:38.525564",
     "status": "completed"
    },
    "tags": []
   },
   "outputs": [],
   "source": [
    "from cuml.preprocessing import StandardScaler\n",
    "transformer = StandardScaler().fit(X)\n",
    "xtrain_scaled=transformer.transform(X)"
   ]
  },
  {
   "cell_type": "code",
   "execution_count": 36,
   "id": "3a031790",
   "metadata": {
    "execution": {
     "iopub.execute_input": "2022-03-16T14:13:48.939686Z",
     "iopub.status.busy": "2022-03-16T14:13:48.938948Z",
     "iopub.status.idle": "2022-03-16T14:13:48.998313Z",
     "shell.execute_reply": "2022-03-16T14:13:48.998750Z",
     "shell.execute_reply.started": "2022-03-16T12:18:36.584197Z"
    },
    "papermill": {
     "duration": 0.130387,
     "end_time": "2022-03-16T14:13:48.998892",
     "exception": false,
     "start_time": "2022-03-16T14:13:48.868505",
     "status": "completed"
    },
    "tags": []
   },
   "outputs": [
    {
     "data": {
      "text/html": [
       "<div>\n",
       "<style scoped>\n",
       "    .dataframe tbody tr th:only-of-type {\n",
       "        vertical-align: middle;\n",
       "    }\n",
       "\n",
       "    .dataframe tbody tr th {\n",
       "        vertical-align: top;\n",
       "    }\n",
       "\n",
       "    .dataframe thead th {\n",
       "        text-align: right;\n",
       "    }\n",
       "</style>\n",
       "<table border=\"1\" class=\"dataframe\">\n",
       "  <thead>\n",
       "    <tr style=\"text-align: right;\">\n",
       "      <th></th>\n",
       "      <th>0</th>\n",
       "      <th>1</th>\n",
       "      <th>2</th>\n",
       "      <th>3</th>\n",
       "      <th>4</th>\n",
       "      <th>5</th>\n",
       "      <th>6</th>\n",
       "      <th>7</th>\n",
       "    </tr>\n",
       "  </thead>\n",
       "  <tbody>\n",
       "    <tr>\n",
       "      <th>0</th>\n",
       "      <td>-1.158221</td>\n",
       "      <td>0.417187</td>\n",
       "      <td>-0.848380</td>\n",
       "      <td>0.130942</td>\n",
       "      <td>-1.358003</td>\n",
       "      <td>-0.239341</td>\n",
       "      <td>-0.744715</td>\n",
       "      <td>-0.876733</td>\n",
       "    </tr>\n",
       "    <tr>\n",
       "      <th>1</th>\n",
       "      <td>0.811656</td>\n",
       "      <td>0.417187</td>\n",
       "      <td>-0.008908</td>\n",
       "      <td>0.130942</td>\n",
       "      <td>0.792336</td>\n",
       "      <td>0.401586</td>\n",
       "      <td>1.008269</td>\n",
       "      <td>0.105041</td>\n",
       "    </tr>\n",
       "    <tr>\n",
       "      <th>2</th>\n",
       "      <td>0.811656</td>\n",
       "      <td>0.417187</td>\n",
       "      <td>-0.008908</td>\n",
       "      <td>2.008716</td>\n",
       "      <td>0.792336</td>\n",
       "      <td>1.386840</td>\n",
       "      <td>1.008269</td>\n",
       "      <td>1.570120</td>\n",
       "    </tr>\n",
       "    <tr>\n",
       "      <th>3</th>\n",
       "      <td>0.389540</td>\n",
       "      <td>0.417187</td>\n",
       "      <td>0.589418</td>\n",
       "      <td>0.443904</td>\n",
       "      <td>0.611367</td>\n",
       "      <td>0.152715</td>\n",
       "      <td>0.037385</td>\n",
       "      <td>0.721754</td>\n",
       "    </tr>\n",
       "    <tr>\n",
       "      <th>4</th>\n",
       "      <td>0.389540</td>\n",
       "      <td>0.417187</td>\n",
       "      <td>-0.006266</td>\n",
       "      <td>0.443904</td>\n",
       "      <td>0.111041</td>\n",
       "      <td>0.323175</td>\n",
       "      <td>-2.018999</td>\n",
       "      <td>0.131415</td>\n",
       "    </tr>\n",
       "    <tr>\n",
       "      <th>...</th>\n",
       "      <td>...</td>\n",
       "      <td>...</td>\n",
       "      <td>...</td>\n",
       "      <td>...</td>\n",
       "      <td>...</td>\n",
       "      <td>...</td>\n",
       "      <td>...</td>\n",
       "      <td>...</td>\n",
       "    </tr>\n",
       "    <tr>\n",
       "      <th>174995</th>\n",
       "      <td>0.389540</td>\n",
       "      <td>0.417187</td>\n",
       "      <td>1.444974</td>\n",
       "      <td>1.695754</td>\n",
       "      <td>0.611367</td>\n",
       "      <td>0.793642</td>\n",
       "      <td>0.253137</td>\n",
       "      <td>1.227257</td>\n",
       "    </tr>\n",
       "    <tr>\n",
       "      <th>174996</th>\n",
       "      <td>-1.158221</td>\n",
       "      <td>0.417187</td>\n",
       "      <td>-1.654650</td>\n",
       "      <td>-0.807946</td>\n",
       "      <td>-1.358003</td>\n",
       "      <td>-0.239341</td>\n",
       "      <td>-2.619059</td>\n",
       "      <td>-0.258701</td>\n",
       "    </tr>\n",
       "    <tr>\n",
       "      <th>174997</th>\n",
       "      <td>-0.595399</td>\n",
       "      <td>0.417187</td>\n",
       "      <td>-1.945771</td>\n",
       "      <td>-0.807946</td>\n",
       "      <td>-0.261543</td>\n",
       "      <td>-1.572332</td>\n",
       "      <td>-0.178367</td>\n",
       "      <td>-1.696526</td>\n",
       "    </tr>\n",
       "    <tr>\n",
       "      <th>174998</th>\n",
       "      <td>0.389540</td>\n",
       "      <td>0.417187</td>\n",
       "      <td>0.355510</td>\n",
       "      <td>0.756867</td>\n",
       "      <td>0.611367</td>\n",
       "      <td>0.793642</td>\n",
       "      <td>0.934104</td>\n",
       "      <td>1.447920</td>\n",
       "    </tr>\n",
       "    <tr>\n",
       "      <th>174999</th>\n",
       "      <td>0.389540</td>\n",
       "      <td>0.417187</td>\n",
       "      <td>1.232435</td>\n",
       "      <td>1.069829</td>\n",
       "      <td>0.611367</td>\n",
       "      <td>1.073195</td>\n",
       "      <td>-0.178367</td>\n",
       "      <td>1.000001</td>\n",
       "    </tr>\n",
       "  </tbody>\n",
       "</table>\n",
       "<p>175000 rows × 8 columns</p>\n",
       "</div>"
      ],
      "text/plain": [
       "               0         1         2         3         4         5         6  \\\n",
       "0      -1.158221  0.417187 -0.848380  0.130942 -1.358003 -0.239341 -0.744715   \n",
       "1       0.811656  0.417187 -0.008908  0.130942  0.792336  0.401586  1.008269   \n",
       "2       0.811656  0.417187 -0.008908  2.008716  0.792336  1.386840  1.008269   \n",
       "3       0.389540  0.417187  0.589418  0.443904  0.611367  0.152715  0.037385   \n",
       "4       0.389540  0.417187 -0.006266  0.443904  0.111041  0.323175 -2.018999   \n",
       "...          ...       ...       ...       ...       ...       ...       ...   \n",
       "174995  0.389540  0.417187  1.444974  1.695754  0.611367  0.793642  0.253137   \n",
       "174996 -1.158221  0.417187 -1.654650 -0.807946 -1.358003 -0.239341 -2.619059   \n",
       "174997 -0.595399  0.417187 -1.945771 -0.807946 -0.261543 -1.572332 -0.178367   \n",
       "174998  0.389540  0.417187  0.355510  0.756867  0.611367  0.793642  0.934104   \n",
       "174999  0.389540  0.417187  1.232435  1.069829  0.611367  1.073195 -0.178367   \n",
       "\n",
       "               7  \n",
       "0      -0.876733  \n",
       "1       0.105041  \n",
       "2       1.570120  \n",
       "3       0.721754  \n",
       "4       0.131415  \n",
       "...          ...  \n",
       "174995  1.227257  \n",
       "174996 -0.258701  \n",
       "174997 -1.696526  \n",
       "174998  1.447920  \n",
       "174999  1.000001  \n",
       "\n",
       "[175000 rows x 8 columns]"
      ]
     },
     "execution_count": 36,
     "metadata": {},
     "output_type": "execute_result"
    }
   ],
   "source": [
    "xtrain_scaled"
   ]
  },
  {
   "cell_type": "code",
   "execution_count": 37,
   "id": "a1b5b18b",
   "metadata": {
    "execution": {
     "iopub.execute_input": "2022-03-16T14:13:49.125594Z",
     "iopub.status.busy": "2022-03-16T14:13:49.124788Z",
     "iopub.status.idle": "2022-03-16T14:13:49.131679Z",
     "shell.execute_reply": "2022-03-16T14:13:49.131244Z",
     "shell.execute_reply.started": "2022-03-16T12:18:39.693848Z"
    },
    "papermill": {
     "duration": 0.072235,
     "end_time": "2022-03-16T14:13:49.131795",
     "exception": false,
     "start_time": "2022-03-16T14:13:49.059560",
     "status": "completed"
    },
    "tags": []
   },
   "outputs": [
    {
     "data": {
      "text/plain": [
       "id\n",
       "32027      20.0\n",
       "71079      28.0\n",
       "32440     130.0\n",
       "124405     34.0\n",
       "33649      24.0\n",
       "          ...  \n",
       "51364      55.0\n",
       "87223      14.0\n",
       "142217     10.0\n",
       "64741      65.0\n",
       "91621      50.0\n",
       "Name: price, Length: 175000, dtype: float32"
      ]
     },
     "execution_count": 37,
     "metadata": {},
     "output_type": "execute_result"
    }
   ],
   "source": [
    "Y"
   ]
  },
  {
   "cell_type": "code",
   "execution_count": 38,
   "id": "0d6ecc78",
   "metadata": {
    "execution": {
     "iopub.execute_input": "2022-03-16T14:13:49.261370Z",
     "iopub.status.busy": "2022-03-16T14:13:49.260358Z",
     "iopub.status.idle": "2022-03-16T14:13:49.853299Z",
     "shell.execute_reply": "2022-03-16T14:13:49.852261Z",
     "shell.execute_reply.started": "2022-03-16T12:18:43.117988Z"
    },
    "papermill": {
     "duration": 0.660809,
     "end_time": "2022-03-16T14:13:49.853444",
     "exception": false,
     "start_time": "2022-03-16T14:13:49.192635",
     "status": "completed"
    },
    "tags": []
   },
   "outputs": [],
   "source": [
    "from cuml.model_selection import train_test_split\n",
    "X_tr, X_te, Y_tr, Y_te = train_test_split(xtrain_scaled, Y, train_size=0.7, random_state=42)"
   ]
  },
  {
   "cell_type": "code",
   "execution_count": 39,
   "id": "6fb455a9",
   "metadata": {
    "execution": {
     "iopub.execute_input": "2022-03-16T14:13:49.981605Z",
     "iopub.status.busy": "2022-03-16T14:13:49.980045Z",
     "iopub.status.idle": "2022-03-16T14:13:49.982190Z",
     "shell.execute_reply": "2022-03-16T14:13:49.982615Z",
     "shell.execute_reply.started": "2022-03-16T12:18:48.813901Z"
    },
    "papermill": {
     "duration": 0.067816,
     "end_time": "2022-03-16T14:13:49.982749",
     "exception": false,
     "start_time": "2022-03-16T14:13:49.914933",
     "status": "completed"
    },
    "tags": []
   },
   "outputs": [],
   "source": [
    "from cuml.ensemble import RandomForestRegressor as curfr\n",
    "cuml_model = curfr(max_features=1.0, n_bins=128,\n",
    "                    min_samples_leaf=1,\n",
    "                    min_samples_split=2,\n",
    "                    n_estimators=40, accuracy_metric='r2')"
   ]
  },
  {
   "cell_type": "code",
   "execution_count": 40,
   "id": "0994dc37",
   "metadata": {
    "execution": {
     "iopub.execute_input": "2022-03-16T14:13:50.110781Z",
     "iopub.status.busy": "2022-03-16T14:13:50.109958Z",
     "iopub.status.idle": "2022-03-16T14:13:50.760275Z",
     "shell.execute_reply": "2022-03-16T14:13:50.761060Z",
     "shell.execute_reply.started": "2022-03-16T12:18:54.101570Z"
    },
    "papermill": {
     "duration": 0.717153,
     "end_time": "2022-03-16T14:13:50.761231",
     "exception": false,
     "start_time": "2022-03-16T14:13:50.044078",
     "status": "completed"
    },
    "tags": []
   },
   "outputs": [
    {
     "data": {
      "text/plain": [
       "RandomForestRegressor()"
      ]
     },
     "execution_count": 40,
     "metadata": {},
     "output_type": "execute_result"
    }
   ],
   "source": [
    "cuml_model.fit(X_tr,Y_tr)"
   ]
  },
  {
   "cell_type": "code",
   "execution_count": 41,
   "id": "98dc935e",
   "metadata": {
    "execution": {
     "iopub.execute_input": "2022-03-16T14:13:50.890327Z",
     "iopub.status.busy": "2022-03-16T14:13:50.889520Z",
     "iopub.status.idle": "2022-03-16T14:13:51.337592Z",
     "shell.execute_reply": "2022-03-16T14:13:51.336549Z",
     "shell.execute_reply.started": "2022-03-16T12:18:56.839604Z"
    },
    "papermill": {
     "duration": 0.51396,
     "end_time": "2022-03-16T14:13:51.337755",
     "exception": false,
     "start_time": "2022-03-16T14:13:50.823795",
     "status": "completed"
    },
    "tags": []
   },
   "outputs": [
    {
     "name": "stdout",
     "output_type": "stream",
     "text": [
      "MSE score of cuml :  0.8619632720947266\n"
     ]
    }
   ],
   "source": [
    "cuml_score = cuml_model.score(X_tr,Y_tr)\n",
    "print(\"MSE score of cuml : \", cuml_score)"
   ]
  },
  {
   "cell_type": "code",
   "execution_count": 42,
   "id": "bbad90b5",
   "metadata": {
    "execution": {
     "iopub.execute_input": "2022-03-16T14:13:51.468071Z",
     "iopub.status.busy": "2022-03-16T14:13:51.467278Z",
     "iopub.status.idle": "2022-03-16T14:13:51.613451Z",
     "shell.execute_reply": "2022-03-16T14:13:51.613935Z",
     "shell.execute_reply.started": "2022-03-16T12:18:59.631844Z"
    },
    "papermill": {
     "duration": 0.213239,
     "end_time": "2022-03-16T14:13:51.614095",
     "exception": false,
     "start_time": "2022-03-16T14:13:51.400856",
     "status": "completed"
    },
    "tags": []
   },
   "outputs": [],
   "source": [
    "pred=cuml_model.predict(X_te)"
   ]
  },
  {
   "cell_type": "code",
   "execution_count": 43,
   "id": "2e11bfbf",
   "metadata": {
    "execution": {
     "iopub.execute_input": "2022-03-16T14:13:51.743128Z",
     "iopub.status.busy": "2022-03-16T14:13:51.740087Z",
     "iopub.status.idle": "2022-03-16T14:13:51.749757Z",
     "shell.execute_reply": "2022-03-16T14:13:51.749276Z",
     "shell.execute_reply.started": "2022-03-16T12:19:01.293832Z"
    },
    "papermill": {
     "duration": 0.073718,
     "end_time": "2022-03-16T14:13:51.749868",
     "exception": false,
     "start_time": "2022-03-16T14:13:51.676150",
     "status": "completed"
    },
    "tags": []
   },
   "outputs": [
    {
     "data": {
      "text/plain": [
       "0         36.577705\n",
       "1         50.941013\n",
       "2         24.684462\n",
       "3        369.711273\n",
       "4         13.209142\n",
       "            ...    \n",
       "52496     15.851903\n",
       "52497     38.692596\n",
       "52498     35.278698\n",
       "52499     22.329727\n",
       "52500     32.118912\n",
       "Length: 52501, dtype: float32"
      ]
     },
     "execution_count": 43,
     "metadata": {},
     "output_type": "execute_result"
    }
   ],
   "source": [
    "pred"
   ]
  },
  {
   "cell_type": "code",
   "execution_count": 44,
   "id": "f449af6d",
   "metadata": {
    "execution": {
     "iopub.execute_input": "2022-03-16T14:13:51.883406Z",
     "iopub.status.busy": "2022-03-16T14:13:51.882212Z",
     "iopub.status.idle": "2022-03-16T14:13:51.885796Z",
     "shell.execute_reply": "2022-03-16T14:13:51.885335Z",
     "shell.execute_reply.started": "2022-03-16T12:19:01.810597Z"
    },
    "papermill": {
     "duration": 0.074689,
     "end_time": "2022-03-16T14:13:51.885907",
     "exception": false,
     "start_time": "2022-03-16T14:13:51.811218",
     "status": "completed"
    },
    "tags": []
   },
   "outputs": [
    {
     "data": {
      "text/plain": [
       "id\n",
       "113301     42.0\n",
       "71699      30.0\n",
       "71788      26.0\n",
       "36528     259.0\n",
       "45386      13.0\n",
       "          ...  \n",
       "45252      16.0\n",
       "61638      42.0\n",
       "79238      50.0\n",
       "13230      20.0\n",
       "106451     45.0\n",
       "Name: price, Length: 52501, dtype: float32"
      ]
     },
     "execution_count": 44,
     "metadata": {},
     "output_type": "execute_result"
    }
   ],
   "source": [
    "Y_te"
   ]
  },
  {
   "cell_type": "code",
   "execution_count": 45,
   "id": "c017a970",
   "metadata": {
    "execution": {
     "iopub.execute_input": "2022-03-16T14:13:52.018125Z",
     "iopub.status.busy": "2022-03-16T14:13:52.017289Z",
     "iopub.status.idle": "2022-03-16T14:13:52.991611Z",
     "shell.execute_reply": "2022-03-16T14:13:52.992146Z",
     "shell.execute_reply.started": "2022-03-16T12:19:27.225079Z"
    },
    "papermill": {
     "duration": 1.044284,
     "end_time": "2022-03-16T14:13:52.992298",
     "exception": false,
     "start_time": "2022-03-16T14:13:51.948014",
     "status": "completed"
    },
    "tags": []
   },
   "outputs": [
    {
     "name": "stdout",
     "output_type": "stream",
     "text": [
      "msqe is  234.23979\n",
      "r2 is  0.8272700309753418\n"
     ]
    }
   ],
   "source": [
    "import cuml\n",
    "msq=cuml.metrics.regression.mean_squared_error(Y_te,pred)\n",
    "r2=cuml.metrics.regression.r2_score(Y_te,pred)\n",
    "print('msqe is ',msq)\n",
    "print('r2 is ',r2)"
   ]
  },
  {
   "cell_type": "code",
   "execution_count": 46,
   "id": "5f7ae273",
   "metadata": {
    "execution": {
     "iopub.execute_input": "2022-03-16T14:13:53.123079Z",
     "iopub.status.busy": "2022-03-16T14:13:53.120269Z",
     "iopub.status.idle": "2022-03-16T14:13:53.126260Z",
     "shell.execute_reply": "2022-03-16T14:13:53.125825Z",
     "shell.execute_reply.started": "2022-03-16T12:19:41.091416Z"
    },
    "papermill": {
     "duration": 0.071419,
     "end_time": "2022-03-16T14:13:53.126367",
     "exception": false,
     "start_time": "2022-03-16T14:13:53.054948",
     "status": "completed"
    },
    "tags": []
   },
   "outputs": [],
   "source": [
    "cuml_model = curfr(max_features=1.0, n_bins=128,\n",
    "                    min_samples_leaf=1,\n",
    "                    min_samples_split=2,\n",
    "                    n_estimators=800, accuracy_metric='r2')"
   ]
  },
  {
   "cell_type": "code",
   "execution_count": 47,
   "id": "a26d4287",
   "metadata": {
    "execution": {
     "iopub.execute_input": "2022-03-16T14:13:53.254915Z",
     "iopub.status.busy": "2022-03-16T14:13:53.254126Z",
     "iopub.status.idle": "2022-03-16T14:14:08.706117Z",
     "shell.execute_reply": "2022-03-16T14:14:08.706843Z",
     "shell.execute_reply.started": "2022-03-16T12:19:42.541405Z"
    },
    "papermill": {
     "duration": 15.517647,
     "end_time": "2022-03-16T14:14:08.707014",
     "exception": false,
     "start_time": "2022-03-16T14:13:53.189367",
     "status": "completed"
    },
    "tags": []
   },
   "outputs": [
    {
     "data": {
      "text/plain": [
       "RandomForestRegressor()"
      ]
     },
     "execution_count": 47,
     "metadata": {},
     "output_type": "execute_result"
    }
   ],
   "source": [
    "cuml_model.fit(xtrain_scaled,Y)"
   ]
  },
  {
   "cell_type": "code",
   "execution_count": 48,
   "id": "85c98644",
   "metadata": {
    "execution": {
     "iopub.execute_input": "2022-03-16T14:14:08.840255Z",
     "iopub.status.busy": "2022-03-16T14:14:08.838679Z",
     "iopub.status.idle": "2022-03-16T14:14:08.840860Z",
     "shell.execute_reply": "2022-03-16T14:14:08.841251Z",
     "shell.execute_reply.started": "2022-03-16T12:20:17.186885Z"
    },
    "papermill": {
     "duration": 0.069876,
     "end_time": "2022-03-16T14:14:08.841380",
     "exception": false,
     "start_time": "2022-03-16T14:14:08.771504",
     "status": "completed"
    },
    "tags": []
   },
   "outputs": [],
   "source": [
    "xtest_final=test_gdf"
   ]
  },
  {
   "cell_type": "code",
   "execution_count": 49,
   "id": "70969781",
   "metadata": {
    "execution": {
     "iopub.execute_input": "2022-03-16T14:14:08.971841Z",
     "iopub.status.busy": "2022-03-16T14:14:08.971080Z",
     "iopub.status.idle": "2022-03-16T14:14:08.981744Z",
     "shell.execute_reply": "2022-03-16T14:14:08.981284Z",
     "shell.execute_reply.started": "2022-03-16T12:20:21.861430Z"
    },
    "papermill": {
     "duration": 0.077933,
     "end_time": "2022-03-16T14:14:08.981858",
     "exception": false,
     "start_time": "2022-03-16T14:14:08.903925",
     "status": "completed"
    },
    "tags": []
   },
   "outputs": [],
   "source": [
    "xtest_scaled_final=transformer.transform(xtest_final)"
   ]
  },
  {
   "cell_type": "code",
   "execution_count": 50,
   "id": "e453f2ad",
   "metadata": {
    "execution": {
     "iopub.execute_input": "2022-03-16T14:14:09.117447Z",
     "iopub.status.busy": "2022-03-16T14:14:09.116636Z",
     "iopub.status.idle": "2022-03-16T14:14:11.540554Z",
     "shell.execute_reply": "2022-03-16T14:14:11.539612Z",
     "shell.execute_reply.started": "2022-03-16T12:20:26.207793Z"
    },
    "papermill": {
     "duration": 2.49506,
     "end_time": "2022-03-16T14:14:11.540701",
     "exception": false,
     "start_time": "2022-03-16T14:14:09.045641",
     "status": "completed"
    },
    "tags": []
   },
   "outputs": [],
   "source": [
    "preds=cuml_model.predict(xtest_scaled_final)"
   ]
  },
  {
   "cell_type": "code",
   "execution_count": 51,
   "id": "97a5eeb0",
   "metadata": {
    "execution": {
     "iopub.execute_input": "2022-03-16T14:14:11.674484Z",
     "iopub.status.busy": "2022-03-16T14:14:11.673672Z",
     "iopub.status.idle": "2022-03-16T14:14:11.681246Z",
     "shell.execute_reply": "2022-03-16T14:14:11.680812Z",
     "shell.execute_reply.started": "2022-03-16T12:20:30.486302Z"
    },
    "papermill": {
     "duration": 0.075218,
     "end_time": "2022-03-16T14:14:11.681353",
     "exception": false,
     "start_time": "2022-03-16T14:14:11.606135",
     "status": "completed"
    },
    "tags": []
   },
   "outputs": [
    {
     "data": {
      "text/plain": [
       "0        81.606583\n",
       "1        23.087040\n",
       "2        55.780151\n",
       "3        31.113710\n",
       "4        17.204630\n",
       "           ...    \n",
       "83205    14.170022\n",
       "83206    37.161465\n",
       "83207    40.075447\n",
       "83208    25.809692\n",
       "83209    49.003620\n",
       "Length: 83210, dtype: float32"
      ]
     },
     "execution_count": 51,
     "metadata": {},
     "output_type": "execute_result"
    }
   ],
   "source": [
    "preds"
   ]
  },
  {
   "cell_type": "code",
   "execution_count": 52,
   "id": "d772c70c",
   "metadata": {
    "execution": {
     "iopub.execute_input": "2022-03-16T14:14:11.812297Z",
     "iopub.status.busy": "2022-03-16T14:14:11.811480Z",
     "iopub.status.idle": "2022-03-16T14:14:11.852392Z",
     "shell.execute_reply": "2022-03-16T14:14:11.852804Z",
     "shell.execute_reply.started": "2022-03-16T12:20:32.745398Z"
    },
    "papermill": {
     "duration": 0.10857,
     "end_time": "2022-03-16T14:14:11.852939",
     "exception": false,
     "start_time": "2022-03-16T14:14:11.744369",
     "status": "completed"
    },
    "tags": []
   },
   "outputs": [],
   "source": [
    "tess_gdf=pd.read_csv('/kaggle/input/ammi-bootcamp-kaggle-competition/test.csv')\n",
    "final_df=pd.DataFrame(tess_gdf['id'],columns=['id'])"
   ]
  },
  {
   "cell_type": "code",
   "execution_count": 53,
   "id": "4cc701d6",
   "metadata": {
    "execution": {
     "iopub.execute_input": "2022-03-16T14:14:11.986237Z",
     "iopub.status.busy": "2022-03-16T14:14:11.984687Z",
     "iopub.status.idle": "2022-03-16T14:14:11.986855Z",
     "shell.execute_reply": "2022-03-16T14:14:11.987241Z",
     "shell.execute_reply.started": "2022-03-16T12:20:32.981032Z"
    },
    "papermill": {
     "duration": 0.069991,
     "end_time": "2022-03-16T14:14:11.987363",
     "exception": false,
     "start_time": "2022-03-16T14:14:11.917372",
     "status": "completed"
    },
    "tags": []
   },
   "outputs": [],
   "source": [
    "final_df['price']=preds"
   ]
  },
  {
   "cell_type": "code",
   "execution_count": 54,
   "id": "74b9da19",
   "metadata": {
    "execution": {
     "iopub.execute_input": "2022-03-16T14:14:12.128638Z",
     "iopub.status.busy": "2022-03-16T14:14:12.128063Z",
     "iopub.status.idle": "2022-03-16T14:14:12.163215Z",
     "shell.execute_reply": "2022-03-16T14:14:12.163639Z",
     "shell.execute_reply.started": "2022-03-16T12:20:34.735952Z"
    },
    "papermill": {
     "duration": 0.112056,
     "end_time": "2022-03-16T14:14:12.163776",
     "exception": false,
     "start_time": "2022-03-16T14:14:12.051720",
     "status": "completed"
    },
    "tags": []
   },
   "outputs": [
    {
     "data": {
      "text/html": [
       "<div>\n",
       "<style scoped>\n",
       "    .dataframe tbody tr th:only-of-type {\n",
       "        vertical-align: middle;\n",
       "    }\n",
       "\n",
       "    .dataframe tbody tr th {\n",
       "        vertical-align: top;\n",
       "    }\n",
       "\n",
       "    .dataframe thead th {\n",
       "        text-align: right;\n",
       "    }\n",
       "</style>\n",
       "<table border=\"1\" class=\"dataframe\">\n",
       "  <thead>\n",
       "    <tr style=\"text-align: right;\">\n",
       "      <th></th>\n",
       "      <th>id</th>\n",
       "      <th>price</th>\n",
       "    </tr>\n",
       "  </thead>\n",
       "  <tbody>\n",
       "    <tr>\n",
       "      <th>0</th>\n",
       "      <td>0</td>\n",
       "      <td>81.606583</td>\n",
       "    </tr>\n",
       "    <tr>\n",
       "      <th>1</th>\n",
       "      <td>1</td>\n",
       "      <td>23.087040</td>\n",
       "    </tr>\n",
       "    <tr>\n",
       "      <th>2</th>\n",
       "      <td>2</td>\n",
       "      <td>55.780151</td>\n",
       "    </tr>\n",
       "    <tr>\n",
       "      <th>3</th>\n",
       "      <td>3</td>\n",
       "      <td>31.113710</td>\n",
       "    </tr>\n",
       "    <tr>\n",
       "      <th>4</th>\n",
       "      <td>4</td>\n",
       "      <td>17.204630</td>\n",
       "    </tr>\n",
       "    <tr>\n",
       "      <th>...</th>\n",
       "      <td>...</td>\n",
       "      <td>...</td>\n",
       "    </tr>\n",
       "    <tr>\n",
       "      <th>83205</th>\n",
       "      <td>83205</td>\n",
       "      <td>14.170022</td>\n",
       "    </tr>\n",
       "    <tr>\n",
       "      <th>83206</th>\n",
       "      <td>83206</td>\n",
       "      <td>37.161465</td>\n",
       "    </tr>\n",
       "    <tr>\n",
       "      <th>83207</th>\n",
       "      <td>83207</td>\n",
       "      <td>40.075447</td>\n",
       "    </tr>\n",
       "    <tr>\n",
       "      <th>83208</th>\n",
       "      <td>83208</td>\n",
       "      <td>25.809692</td>\n",
       "    </tr>\n",
       "    <tr>\n",
       "      <th>83209</th>\n",
       "      <td>83209</td>\n",
       "      <td>49.003620</td>\n",
       "    </tr>\n",
       "  </tbody>\n",
       "</table>\n",
       "<p>83210 rows × 2 columns</p>\n",
       "</div>"
      ],
      "text/plain": [
       "          id      price\n",
       "0          0  81.606583\n",
       "1          1  23.087040\n",
       "2          2  55.780151\n",
       "3          3  31.113710\n",
       "4          4  17.204630\n",
       "...      ...        ...\n",
       "83205  83205  14.170022\n",
       "83206  83206  37.161465\n",
       "83207  83207  40.075447\n",
       "83208  83208  25.809692\n",
       "83209  83209  49.003620\n",
       "\n",
       "[83210 rows x 2 columns]"
      ]
     },
     "execution_count": 54,
     "metadata": {},
     "output_type": "execute_result"
    }
   ],
   "source": [
    "final_df"
   ]
  },
  {
   "cell_type": "code",
   "execution_count": 55,
   "id": "d950b963",
   "metadata": {
    "execution": {
     "iopub.execute_input": "2022-03-16T14:14:12.296268Z",
     "iopub.status.busy": "2022-03-16T14:14:12.295758Z",
     "iopub.status.idle": "2022-03-16T14:14:12.304315Z",
     "shell.execute_reply": "2022-03-16T14:14:12.303914Z",
     "shell.execute_reply.started": "2022-03-16T12:20:36.012756Z"
    },
    "papermill": {
     "duration": 0.076242,
     "end_time": "2022-03-16T14:14:12.304423",
     "exception": false,
     "start_time": "2022-03-16T14:14:12.228181",
     "status": "completed"
    },
    "tags": []
   },
   "outputs": [],
   "source": [
    "filename='./submission.csv'\n",
    "final_df.to_csv(filename,index=False)"
   ]
  },
  {
   "cell_type": "code",
   "execution_count": null,
   "id": "7019bf5e",
   "metadata": {
    "papermill": {
     "duration": 0.064167,
     "end_time": "2022-03-16T14:14:12.431851",
     "exception": false,
     "start_time": "2022-03-16T14:14:12.367684",
     "status": "completed"
    },
    "tags": []
   },
   "outputs": [],
   "source": []
  }
 ],
 "metadata": {
  "kernelspec": {
   "display_name": "Python 3",
   "language": "python",
   "name": "python3"
  },
  "language_info": {
   "codemirror_mode": {
    "name": "ipython",
    "version": 3
   },
   "file_extension": ".py",
   "mimetype": "text/x-python",
   "name": "python",
   "nbconvert_exporter": "python",
   "pygments_lexer": "ipython3",
   "version": "3.7.12"
  },
  "papermill": {
   "default_parameters": {},
   "duration": 321.230038,
   "end_time": "2022-03-16T14:14:13.908645",
   "environment_variables": {},
   "exception": null,
   "input_path": "__notebook__.ipynb",
   "output_path": "__notebook__.ipynb",
   "parameters": {},
   "start_time": "2022-03-16T14:08:52.678607",
   "version": "2.3.3"
  }
 },
 "nbformat": 4,
 "nbformat_minor": 5
}
